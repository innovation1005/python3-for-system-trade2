{
 "cells": [
  {
   "cell_type": "markdown",
   "metadata": {},
   "source": [
    "13.付録A: 日経225miniのデータ処理(CQG)\n",
    "\n",
    "　CQGの日経225mini先物の標品コードはF.US.MJNKで、データは一か月分をフォルダーに入れて配布される。2018年12月であれば、フォルダー名はF.US.MJNK201812となる。その中には限月ごとのデータが入っている。その限月はF.US.MJNKのつぎに記載され、2019年３月限りではH19である。Hは取引所の限月コードである。したがって、ファイル名は\n",
    " \n",
    " F.US.MJNKH19_201812.ts\n",
    " \n",
    "となる。tsはファイルを識別する拡張子である。弦月コードを表Aにまとめた。\n",
    "\n",
    "|表A:|弦月コード|||||\n",
    "|:-:|:-:|:-:|:-:|:-:|:-:|\n",
    "|月|コード|月|コード|月|コード|\n",
    "|1月|F|2月|G|3月|H|\n",
    "|4月|J|5月|K|6月|M|\n",
    "|7月|N|8月|Q|9月|U|\n",
    "|10月|V|11月|X|12月|Z|\n",
    " \n",
    " オリジナルデータのフォーマットは\n",
    " \n",
    " 1. 商品コード\n",
    " 2. 取引日:YYYYMMDD\n",
    " 3. 立会コード:0=第一、1=第二,2=第三\n",
    " 4. 取引時間\n",
    " 5. 取引価格\n",
    " 6. 取引タイプ：B=買い,A=売り,T=取引,S=決済\n",
    " 7. 市場の指標：F=Fast market, N=Normal market\n",
    " 8. 取引訂正コード\n",
    " 9. 取引高\n",
    "\n",
    "であるので、これを\n",
    "\n",
    "Date Price BestBid BestAsk Volume BBV BAV\n",
    "\n",
    "に変更する。Priceは約定価格であり、BestBid、BestAskはそのときの最良買指値と売り指値である。Volumeは取引高であり、BBV,BAVは指値の提示数量である。\n",
    "\n",
    "入力[1]は必要なライブライ－のインポート"
   ]
  },
  {
   "cell_type": "code",
   "execution_count": 1,
   "metadata": {},
   "outputs": [],
   "source": [
    "import csv\n",
    "from dateutil import parser as dp\n",
    "from datetime import datetime, date\n",
    "import pandas as pd"
   ]
  },
  {
   "cell_type": "code",
   "execution_count": 2,
   "metadata": {},
   "outputs": [],
   "source": [
    "def CQGfile_convert_csv(file_name_read,file_name_save):\n",
    "    n=0\n",
    "    t=0\n",
    "    trades=[]\n",
    "    da=[]\n",
    "    bestbid=0\n",
    "    bestbidv=0\n",
    "    bestask=0\n",
    "    bestaskv=0\n",
    "    with open(file_name_read,'r') as f:\n",
    "        series=csv.reader(f)\n",
    "        for line in series:\n",
    "            i=0\n",
    "            tmp=[0]*9\n",
    "            for elements in line:\n",
    "                tmp[i]=elements\n",
    "                i+=1\n",
    "            if tmp[5]==\"B\":\n",
    "                bestbid=tmp[4]\n",
    "                bestbidv=tmp[8]\n",
    "            if tmp[5]==\"A\":\n",
    "                bestask=tmp[4]\n",
    "                bestaskv=tmp[8]\n",
    "            if tmp[5]==\"T\":\n",
    "                yymmdd=tmp[1]\n",
    "                hm=tmp[3]\n",
    "                da.append(datetime(int(yymmdd[0:4]),int(yymmdd[4:6]),\n",
    "                                   int(yymmdd[6:8]),int(hm[0:2]),int(hm[2:4])))\n",
    "                trades.append([])\n",
    "                trades[t].append(tmp[4])\n",
    "                trades[t].append(bestbid)\n",
    "                trades[t].append(bestask)\n",
    "                trades[t].append(tmp[8])\n",
    "                trades[t].append(bestbidv)\n",
    "                trades[t].append(bestaskv)\n",
    "                t=t+1\n",
    "            if tmp[4]==0:\n",
    "                print(tmp[1],tmp[3])\n",
    "            n=n+1\n",
    "        print(file_name_read)\n",
    "        print(\"total data points:\",n,\"no. of trades: \",t,\\\n",
    "              \"% 2.4f\"%(float(t)/float(n)))\n",
    "        f.close()\n",
    "    tsd=pd.DataFrame(trades,index=da,\\\n",
    "                columns=['Price','BestBid','BestAsk','Volume','BBV','BAV'])\n",
    "    tsd.index.name='Date'\n",
    "    tsd=tsd.tz_localize('US/Central')    \n",
    "    tsd=tsd.tz_convert('Asia/Tokyo')    \n",
    "    tsd.to_csv(file_name_save)"
   ]
  },
  {
   "cell_type": "code",
   "execution_count": 3,
   "metadata": {},
   "outputs": [
    {
     "name": "stdout",
     "output_type": "stream",
     "text": [
      "C:/users/hm201/documents/Database/n225/tick/F.US.MJNK_201812/F.US.MJNKH19_201812.ts\n",
      "total data points: 28687059 no. of trades:  3801640  0.1325\n",
      "---------------------------------------------------------\n",
      "0:01:25.424841\n"
     ]
    }
   ],
   "source": [
    "if __name__ == \"__main__\":\n",
    "    t1=datetime.now()\n",
    "    folders=[\"F.US.MJNK_201812\"\n",
    "    ]\n",
    "    filenames0=[\"F.US.MJNKH19_201812.ts\"\n",
    "    ]\n",
    "    filenames=[\"n225m201812Mar.csv\"\n",
    "    ]\n",
    "    buf_path0=\"C:/users/xxx/documents/Database/n225/tick/\"\n",
    "    for folder,filename0,filename in zip(folders,filenames0,filenames):\n",
    "        file_name_read=buf_path0+folder+\"/\"+filename0\n",
    "        file_name_save=buf_path0+filename\n",
    "        CQGfile_convert_csv(file_name_read,file_name_save)\n",
    "print(\"---------------------------------------------------------\")\n",
    "t2=datetime.now()\n",
    "print(t2-t1)"
   ]
  },
  {
   "cell_type": "markdown",
   "metadata": {},
   "source": [
    "13.付録B: 日経225miniの立会４本値の作成\n",
    "\n",
    "　入力[3]で出力されたファイルを読み込み、立会４本値を作成する。フォーマットは\n",
    "\n",
    "Date,Open,High,Low,Close,Volume,TradingValue\n",
    "\n",
    "である。時間の表示は日中立会を9:00、夜間立会を16:30に統一する。"
   ]
  },
  {
   "cell_type": "code",
   "execution_count": 4,
   "metadata": {},
   "outputs": [],
   "source": [
    "def CQGtick_csv_to_session(file_name_read):\n",
    "    print(file_name_read)\n",
    "    tsd=pd.read_csv(file_name_read,index_col=0,header=0,parse_dates=True)\n",
    "    tsd.index.name='Date'\n",
    "    indexdate=pd.unique(tsd.index.date)\n",
    "    nindexdate=len(indexdate)\n",
    "    tmp=pd.DataFrame([])\n",
    "    da=[]\n",
    "    trade=[]\n",
    "    for i in range(nindexdate):\n",
    "        tmp=tsd.loc[str(indexdate[i])+' 8:45:00+09:00':\\\n",
    "                    str(indexdate[i])+' 15:15:00+09:00']\n",
    "        if not tmp.empty:\n",
    "            index0=str(indexdate[i])+' 9:00'\n",
    "            o=tmp.iloc[0].Price\n",
    "            h=max(tmp.Price)\n",
    "            l=min(tmp.Price)\n",
    "            c=tmp.iloc[-1].Price\n",
    "            v=sum(tmp.Volume)\n",
    "            tv=sum(tmp.Volume*tmp.Price)\n",
    "            da.append(index0)\n",
    "            trade.append([o,h,l,c,v,tv])\n",
    "            tmp=pd.DataFrame([])\n",
    "        if i+1<nindexdate: \n",
    "            tmp=tsd.loc[str(indexdate[i])+' 16:30:00+09:00':\\\n",
    "                        str(indexdate[i+1])+' 6:00:00+09:00']\n",
    "        if not tmp.empty:\n",
    "            index0=str(indexdate[i])+' 16:30'\n",
    "            o=tmp.iloc[0].Price\n",
    "            h=max(tmp.Price)\n",
    "            l=min(tmp.Price)\n",
    "            c=tmp.iloc[-1].Price\n",
    "            v=sum(tmp.Volume)\n",
    "            tv=sum(tmp.Volume*tmp.Price)\n",
    "            da.append(index0)\n",
    "            trade.append([o,h,l,c,v,tv])\n",
    "            tmp=pd.DataFrame([])\n",
    "    return pd.DataFrame(trade,index=da,\\\n",
    "            columns=['Open','High','Low','Close','Volume','TradingValue'])"
   ]
  },
  {
   "cell_type": "code",
   "execution_count": 5,
   "metadata": {},
   "outputs": [
    {
     "name": "stdout",
     "output_type": "stream",
     "text": [
      "C:\\users\\hm201\\documents\\Database\\n225\\tick\\n225m201812Mar.csv\n",
      "0:00:26.011104 ---------------------------------------------------------\n"
     ]
    }
   ],
   "source": [
    "if __name__ == \"__main__\":\n",
    "    t1=datetime.now()\n",
    "    filenames2018=[\"n225m201812Mar.csv\"\n",
    "    ]\n",
    "    buf_path0=\"C:\\\\users\\\\xxx\\\\documents\\\\Database\\\\n225\\\\tick\\\\\"\n",
    "    buf_path=\"C:\\\\users\\\\xxx\\\\documents\\\\Database\\\\n225\\\\session\\\\\"\n",
    "    filenames=filenames2018\n",
    "\n",
    "    for i,filename in enumerate(filenames):\n",
    "        file_name_read=buf_path0+filename\n",
    "        ts=CQGtick_csv_to_session(file_name_read)\n",
    "        if i==0:\n",
    "            tsd=ts\n",
    "        else:\n",
    "            tsd=pd.concat([tsd,ts])\n",
    "    file_name_save=buf_path+\"nikkei225fm_2_2018.csv\"\n",
    "    tsd.to_csv(file_name_save)\n",
    "\n",
    "    t2=datetime.now()\n",
    "    print(t2-t1,\"---------------------------------------------------------\")"
   ]
  },
  {
   "cell_type": "code",
   "execution_count": null,
   "metadata": {},
   "outputs": [],
   "source": []
  }
 ],
 "metadata": {
  "anaconda-cloud": {},
  "kernelspec": {
   "display_name": "Python 3 (ipykernel)",
   "language": "python",
   "name": "python3"
  },
  "language_info": {
   "codemirror_mode": {
    "name": "ipython",
    "version": 3
   },
   "file_extension": ".py",
   "mimetype": "text/x-python",
   "name": "python",
   "nbconvert_exporter": "python",
   "pygments_lexer": "ipython3",
   "version": "3.9.13"
  }
 },
 "nbformat": 4,
 "nbformat_minor": 1
}
