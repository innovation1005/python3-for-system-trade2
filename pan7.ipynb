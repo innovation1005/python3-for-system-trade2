{
 "cells": [
  {
   "cell_type": "code",
   "execution_count": 1,
   "metadata": {},
   "outputs": [],
   "source": [
    " # フォントを全て読み込み\n",
    "import matplotlib.pyplot as plt\n",
    "import japanize_matplotlib"
   ]
  },
  {
   "cell_type": "markdown",
   "metadata": {},
   "source": [
    "fonts = set([f.name for f in \n",
    "             matplotlib.font_manager.fontManager.ttflist])\n",
    "plt.rcParams['font.family'] = \"MS Gothic\""
   ]
  },
  {
   "cell_type": "code",
   "execution_count": 2,
   "metadata": {},
   "outputs": [],
   "source": [
    "import statsmodels.api as sm\n",
    "import pandas_datareader.data as web\n",
    "import numpy as np\n",
    "import pandas as pd"
   ]
  },
  {
   "cell_type": "code",
   "execution_count": 3,
   "metadata": {},
   "outputs": [],
   "source": [
    "end='2022/12/31'\n",
    "lnn225 = np.log(web.DataReader(\n",
    "    \"NIKKEI225\", 'fred',\"1949/5/16\",end)).dropna()"
   ]
  },
  {
   "cell_type": "code",
   "execution_count": 4,
   "metadata": {},
   "outputs": [
    {
     "name": "stdout",
     "output_type": "stream",
     "text": [
      "結果は、adf検定統計値が2.42,そのp値が1.00となる。また、\n",
      "ラグ数    26\n",
      "データ数  18268\n",
      "臨界値 1%:-2.57;5%:-1.94;10%:-1.62である。\n"
     ]
    }
   ],
   "source": [
    "a=sm.tsa.adfuller(lnn225.NIKKEI225,regression='n')\n",
    "b,c,d,e,f,g=a\n",
    "print(f\"結果は、adf検定統計値が{b:2.2f},そのp値が{c:2.2f}となる。また、\")\n",
    "print(f\"ラグ数    {d}\")\n",
    "print(f\"データ数  {e}\")\n",
    "print(f\"臨界値 1%:{f['1%']:2.2f};5%:{f['5%']:2.2f};10%:{f['10%']:2.2f}である。\")"
   ]
  },
  {
   "cell_type": "code",
   "execution_count": 5,
   "metadata": {},
   "outputs": [],
   "source": [
    "states=['全期間','戦後復興期','高度経済成長期','安定成長期','バブル期',\n",
    "        'バブルピークまで','バブル暴落','調整期','アベノミクス']\n",
    "starts=[\"1949/5/16\",\"1949/5/16\",\"1954/12/1\",'1972/1/1',\"1986/12/1\",\n",
    "        \"1986/12/1\",\"1990/1/1\",\"1993/11/1\", \"2012/11/1\"]\n",
    "ends=[end,\"1954/11/30\",'1972/12/31',\"1986/11/30\",\"1993/10/31\",\n",
    "      \"1989/12/31\",\"1992/8/31\",\"2012/10/31\",end]"
   ]
  },
  {
   "cell_type": "code",
   "execution_count": 6,
   "metadata": {},
   "outputs": [
    {
     "name": "stdout",
     "output_type": "stream",
     "text": [
      "表7.1: 各経済循環期におけるN225の単位根検定のp値\n"
     ]
    },
    {
     "data": {
      "text/html": [
       "<div>\n",
       "<style scoped>\n",
       "    .dataframe tbody tr th:only-of-type {\n",
       "        vertical-align: middle;\n",
       "    }\n",
       "\n",
       "    .dataframe tbody tr th {\n",
       "        vertical-align: top;\n",
       "    }\n",
       "\n",
       "    .dataframe thead th {\n",
       "        text-align: right;\n",
       "    }\n",
       "</style>\n",
       "<table border=\"1\" class=\"dataframe\">\n",
       "  <thead>\n",
       "    <tr style=\"text-align: right;\">\n",
       "      <th></th>\n",
       "      <th>n</th>\n",
       "      <th>c</th>\n",
       "      <th>ct</th>\n",
       "    </tr>\n",
       "  </thead>\n",
       "  <tbody>\n",
       "    <tr>\n",
       "      <th>全期間</th>\n",
       "      <td>1.00</td>\n",
       "      <td>0.11</td>\n",
       "      <td>0.75</td>\n",
       "    </tr>\n",
       "    <tr>\n",
       "      <th>戦後復興期</th>\n",
       "      <td>0.90</td>\n",
       "      <td>0.90</td>\n",
       "      <td>0.50</td>\n",
       "    </tr>\n",
       "    <tr>\n",
       "      <th>高度経済成長期</th>\n",
       "      <td>1.00</td>\n",
       "      <td>0.96</td>\n",
       "      <td>0.94</td>\n",
       "    </tr>\n",
       "    <tr>\n",
       "      <th>安定成長期</th>\n",
       "      <td>1.00</td>\n",
       "      <td>0.96</td>\n",
       "      <td>0.84</td>\n",
       "    </tr>\n",
       "    <tr>\n",
       "      <th>バブル期</th>\n",
       "      <td>0.71</td>\n",
       "      <td>0.61</td>\n",
       "      <td>0.41</td>\n",
       "    </tr>\n",
       "    <tr>\n",
       "      <th>バブルピークまで</th>\n",
       "      <td>1.00</td>\n",
       "      <td>0.77</td>\n",
       "      <td>0.31</td>\n",
       "    </tr>\n",
       "    <tr>\n",
       "      <th>バブル暴落</th>\n",
       "      <td>0.07</td>\n",
       "      <td>0.44</td>\n",
       "      <td>0.32</td>\n",
       "    </tr>\n",
       "    <tr>\n",
       "      <th>調整期</th>\n",
       "      <td>0.41</td>\n",
       "      <td>0.60</td>\n",
       "      <td>0.40</td>\n",
       "    </tr>\n",
       "    <tr>\n",
       "      <th>アベノミクス</th>\n",
       "      <td>0.97</td>\n",
       "      <td>0.03</td>\n",
       "      <td>0.00</td>\n",
       "    </tr>\n",
       "  </tbody>\n",
       "</table>\n",
       "</div>"
      ],
      "text/plain": [
       "            n    c   ct\n",
       "全期間      1.00 0.11 0.75\n",
       "戦後復興期    0.90 0.90 0.50\n",
       "高度経済成長期  1.00 0.96 0.94\n",
       "安定成長期    1.00 0.96 0.84\n",
       "バブル期     0.71 0.61 0.41\n",
       "バブルピークまで 1.00 0.77 0.31\n",
       "バブル暴落    0.07 0.44 0.32\n",
       "調整期      0.41 0.60 0.40\n",
       "アベノミクス   0.97 0.03 0.00"
      ]
     },
     "execution_count": 6,
     "metadata": {},
     "output_type": "execute_result"
    }
   ],
   "source": [
    "def adftest(tsd,adftype):\n",
    "    results=[]\n",
    "    for i,(start,end) in enumerate(zip(starts,ends)):\n",
    "        tsd0=tsd.loc[start:end].copy()\n",
    "        results.append(sm.tsa.adfuller(tsd0,regression=adftype)[1])\n",
    "    return results\n",
    "\n",
    "pd.options.display.precision = 2\n",
    "pd.set_option('display.float_format', lambda x: '%.2f' % x)\n",
    "\n",
    "adftype=['n','c','ct']\n",
    "summaries=[]\n",
    "for adf in adftype:\n",
    "    summaries.append(adftest(lnn225,adf))\n",
    "print(\"表7.1: 各経済循環期におけるN225の単位根検定のp値\")\n",
    "pd.DataFrame(np.array(summaries).T,index=states,columns=adftype)"
   ]
  },
  {
   "cell_type": "code",
   "execution_count": 7,
   "metadata": {},
   "outputs": [
    {
     "name": "stdout",
     "output_type": "stream",
     "text": [
      "表7.2: 各経済循環期におけるN225(月次)の単位根検定のp値\n"
     ]
    },
    {
     "data": {
      "text/html": [
       "<div>\n",
       "<style scoped>\n",
       "    .dataframe tbody tr th:only-of-type {\n",
       "        vertical-align: middle;\n",
       "    }\n",
       "\n",
       "    .dataframe tbody tr th {\n",
       "        vertical-align: top;\n",
       "    }\n",
       "\n",
       "    .dataframe thead th {\n",
       "        text-align: right;\n",
       "    }\n",
       "</style>\n",
       "<table border=\"1\" class=\"dataframe\">\n",
       "  <thead>\n",
       "    <tr style=\"text-align: right;\">\n",
       "      <th></th>\n",
       "      <th>n</th>\n",
       "      <th>c</th>\n",
       "      <th>ct</th>\n",
       "    </tr>\n",
       "  </thead>\n",
       "  <tbody>\n",
       "    <tr>\n",
       "      <th>全期間</th>\n",
       "      <td>0.99</td>\n",
       "      <td>0.03</td>\n",
       "      <td>0.44</td>\n",
       "    </tr>\n",
       "    <tr>\n",
       "      <th>戦後復興期</th>\n",
       "      <td>0.87</td>\n",
       "      <td>0.90</td>\n",
       "      <td>0.37</td>\n",
       "    </tr>\n",
       "    <tr>\n",
       "      <th>高度経済成長期</th>\n",
       "      <td>1.00</td>\n",
       "      <td>0.97</td>\n",
       "      <td>0.94</td>\n",
       "    </tr>\n",
       "    <tr>\n",
       "      <th>安定成長期</th>\n",
       "      <td>1.00</td>\n",
       "      <td>1.00</td>\n",
       "      <td>0.96</td>\n",
       "    </tr>\n",
       "    <tr>\n",
       "      <th>バブル期</th>\n",
       "      <td>0.70</td>\n",
       "      <td>0.55</td>\n",
       "      <td>0.36</td>\n",
       "    </tr>\n",
       "    <tr>\n",
       "      <th>バブルピークまで</th>\n",
       "      <td>1.00</td>\n",
       "      <td>0.99</td>\n",
       "      <td>0.00</td>\n",
       "    </tr>\n",
       "    <tr>\n",
       "      <th>バブル暴落</th>\n",
       "      <td>0.15</td>\n",
       "      <td>0.38</td>\n",
       "      <td>0.15</td>\n",
       "    </tr>\n",
       "    <tr>\n",
       "      <th>調整期</th>\n",
       "      <td>0.40</td>\n",
       "      <td>0.53</td>\n",
       "      <td>0.37</td>\n",
       "    </tr>\n",
       "    <tr>\n",
       "      <th>アベノミクス</th>\n",
       "      <td>0.98</td>\n",
       "      <td>0.03</td>\n",
       "      <td>0.00</td>\n",
       "    </tr>\n",
       "  </tbody>\n",
       "</table>\n",
       "</div>"
      ],
      "text/plain": [
       "            n    c   ct\n",
       "全期間      0.99 0.03 0.44\n",
       "戦後復興期    0.87 0.90 0.37\n",
       "高度経済成長期  1.00 0.97 0.94\n",
       "安定成長期    1.00 1.00 0.96\n",
       "バブル期     0.70 0.55 0.36\n",
       "バブルピークまで 1.00 0.99 0.00\n",
       "バブル暴落    0.15 0.38 0.15\n",
       "調整期      0.40 0.53 0.37\n",
       "アベノミクス   0.98 0.03 0.00"
      ]
     },
     "execution_count": 7,
     "metadata": {},
     "output_type": "execute_result"
    }
   ],
   "source": [
    "summaries=[]\n",
    "for adf in adftype:\n",
    "    summaries.append(adftest(lnn225.resample('M').last(),adf))\n",
    "print(\"表7.2: 各経済循環期におけるN225(月次)の単位根検定のp値\")\n",
    "pd.DataFrame(np.array(summaries).T,index=states,columns=adftype)"
   ]
  },
  {
   "cell_type": "code",
   "execution_count": 8,
   "metadata": {},
   "outputs": [],
   "source": [
    "def interval_adf(tsd,interval,adf):\n",
    "    results=[]\n",
    "    for nnn in interval:\n",
    "        no=int(len(tsd)/nnn)\n",
    "        nrw=0    \n",
    "        for i in range(no):\n",
    "            if i<no-1:\n",
    "                tsd0=tsd.iloc[i*nnn:(1+i)*nnn].copy()\n",
    "            else:\n",
    "                tsd0=tsd.iloc[i*nnn:-1].copy()\n",
    "            y=tsd0.dropna()\n",
    "            if sm.tsa.adfuller(y,regression=adf)[1]<0.1:\n",
    "                nrw+=1\n",
    "        results.append([nrw/no])\n",
    "    return pd.DataFrame(results,index=interval,columns=[adf])"
   ]
  },
  {
   "cell_type": "code",
   "execution_count": 9,
   "metadata": {},
   "outputs": [
    {
     "data": {
      "text/html": [
       "<div>\n",
       "<style scoped>\n",
       "    .dataframe tbody tr th:only-of-type {\n",
       "        vertical-align: middle;\n",
       "    }\n",
       "\n",
       "    .dataframe tbody tr th {\n",
       "        vertical-align: top;\n",
       "    }\n",
       "\n",
       "    .dataframe thead th {\n",
       "        text-align: right;\n",
       "    }\n",
       "</style>\n",
       "<table border=\"1\" class=\"dataframe\">\n",
       "  <thead>\n",
       "    <tr style=\"text-align: right;\">\n",
       "      <th></th>\n",
       "      <th>n</th>\n",
       "      <th>c</th>\n",
       "      <th>ct</th>\n",
       "    </tr>\n",
       "  </thead>\n",
       "  <tbody>\n",
       "    <tr>\n",
       "      <th>20</th>\n",
       "      <td>0.00</td>\n",
       "      <td>0.30</td>\n",
       "      <td>0.25</td>\n",
       "    </tr>\n",
       "    <tr>\n",
       "      <th>30</th>\n",
       "      <td>0.08</td>\n",
       "      <td>0.17</td>\n",
       "      <td>0.24</td>\n",
       "    </tr>\n",
       "    <tr>\n",
       "      <th>40</th>\n",
       "      <td>0.05</td>\n",
       "      <td>0.13</td>\n",
       "      <td>0.19</td>\n",
       "    </tr>\n",
       "    <tr>\n",
       "      <th>50</th>\n",
       "      <td>0.04</td>\n",
       "      <td>0.12</td>\n",
       "      <td>0.18</td>\n",
       "    </tr>\n",
       "  </tbody>\n",
       "</table>\n",
       "</div>"
      ],
      "text/plain": [
       "      n    c   ct\n",
       "20 0.00 0.30 0.25\n",
       "30 0.08 0.17 0.24\n",
       "40 0.05 0.13 0.19\n",
       "50 0.04 0.12 0.18"
      ]
     },
     "execution_count": 9,
     "metadata": {},
     "output_type": "execute_result"
    }
   ],
   "source": [
    "interval=np.arange(20,60,10)\n",
    "results=interval_adf(lnn225.copy(),interval,adftype[0])\n",
    "for adf in adftype[1:]:\n",
    "        results[adf]=interval_adf(lnn225.copy(),interval,adf).values\n",
    "results"
   ]
  },
  {
   "cell_type": "code",
   "execution_count": 10,
   "metadata": {},
   "outputs": [
    {
     "data": {
      "text/html": [
       "<div>\n",
       "<style scoped>\n",
       "    .dataframe tbody tr th:only-of-type {\n",
       "        vertical-align: middle;\n",
       "    }\n",
       "\n",
       "    .dataframe tbody tr th {\n",
       "        vertical-align: top;\n",
       "    }\n",
       "\n",
       "    .dataframe thead th {\n",
       "        text-align: right;\n",
       "    }\n",
       "</style>\n",
       "<table border=\"1\" class=\"dataframe\">\n",
       "  <thead>\n",
       "    <tr style=\"text-align: right;\">\n",
       "      <th></th>\n",
       "      <th>n</th>\n",
       "      <th>c</th>\n",
       "      <th>ct</th>\n",
       "    </tr>\n",
       "  </thead>\n",
       "  <tbody>\n",
       "    <tr>\n",
       "      <th>12</th>\n",
       "      <td>0.00</td>\n",
       "      <td>0.26</td>\n",
       "      <td>0.29</td>\n",
       "    </tr>\n",
       "    <tr>\n",
       "      <th>24</th>\n",
       "      <td>0.06</td>\n",
       "      <td>0.20</td>\n",
       "      <td>0.25</td>\n",
       "    </tr>\n",
       "    <tr>\n",
       "      <th>36</th>\n",
       "      <td>0.04</td>\n",
       "      <td>0.13</td>\n",
       "      <td>0.22</td>\n",
       "    </tr>\n",
       "    <tr>\n",
       "      <th>48</th>\n",
       "      <td>0.00</td>\n",
       "      <td>0.12</td>\n",
       "      <td>0.16</td>\n",
       "    </tr>\n",
       "    <tr>\n",
       "      <th>60</th>\n",
       "      <td>0.00</td>\n",
       "      <td>0.14</td>\n",
       "      <td>0.15</td>\n",
       "    </tr>\n",
       "    <tr>\n",
       "      <th>72</th>\n",
       "      <td>0.08</td>\n",
       "      <td>0.09</td>\n",
       "      <td>0.15</td>\n",
       "    </tr>\n",
       "    <tr>\n",
       "      <th>84</th>\n",
       "      <td>0.00</td>\n",
       "      <td>0.12</td>\n",
       "      <td>0.12</td>\n",
       "    </tr>\n",
       "    <tr>\n",
       "      <th>96</th>\n",
       "      <td>0.00</td>\n",
       "      <td>0.10</td>\n",
       "      <td>0.13</td>\n",
       "    </tr>\n",
       "  </tbody>\n",
       "</table>\n",
       "</div>"
      ],
      "text/plain": [
       "      n    c   ct\n",
       "12 0.00 0.26 0.29\n",
       "24 0.06 0.20 0.25\n",
       "36 0.04 0.13 0.22\n",
       "48 0.00 0.12 0.16\n",
       "60 0.00 0.14 0.15\n",
       "72 0.08 0.09 0.15\n",
       "84 0.00 0.12 0.12\n",
       "96 0.00 0.10 0.13"
      ]
     },
     "execution_count": 10,
     "metadata": {},
     "output_type": "execute_result"
    }
   ],
   "source": [
    "interval=np.arange(12,100,12)\n",
    "results=interval_adf((lnn225.copy()).resample('M').last(),interval,adftype[0])\n",
    "for adf in adftype[1:]:\n",
    "        results[adf]=interval_adf(lnn225.copy(),interval,adf).values\n",
    "results"
   ]
  },
  {
   "cell_type": "code",
   "execution_count": 11,
   "metadata": {},
   "outputs": [
    {
     "data": {
      "image/png": "[encoded data removed]",
      "text/plain": [
       "<Figure size 500x300 with 1 Axes>"
      ]
     },
     "metadata": {},
     "output_type": "display_data"
    }
   ],
   "source": [
    "lnw5000 = np.log(web.DataReader(\"WILL5000INDFC\", 'fred',\"1949/5/16\",end))\\\n",
    "                                                                .dropna()\n",
    "lnw5000.columns=['Close']\n",
    "lnw5000.Close.plot(color='hotpink',figsize=(5,3))\n",
    "lnw5000[\"t\"]=range(len(lnw5000))\n",
    "model=sm.OLS(lnw5000.Close,lnw5000.t)\n",
    "results=model.fit()\n",
    "results.fittedvalues.plot(label='prediction',style='--')\n",
    "plt.ylabel('log(株価指数)')\n",
    "plt.title('図7.1: ウィルシャー5000の過去50年の株価プロット')\n",
    "plt.show()"
   ]
  },
  {
   "cell_type": "code",
   "execution_count": 12,
   "metadata": {},
   "outputs": [
    {
     "data": {
      "image/png": "[encoded data removed]",
      "text/plain": [
       "<Figure size 500x300 with 1 Axes>"
      ]
     },
     "metadata": {},
     "output_type": "display_data"
    }
   ],
   "source": [
    "results.resid.hist(bins=50,color='lightgreen',figsize=(5,3))\n",
    "plt.ylabel('頻度')\n",
    "plt.xlabel('残差')\n",
    "plt.title('図7.2: ウィルシャー5000の過去50年の株価の残差プロット')\n",
    "plt.tight_layout()\n",
    "#plt.savefig('0702.jpeg',dpi=600)\n",
    "plt.show()"
   ]
  },
  {
   "cell_type": "code",
   "execution_count": 13,
   "metadata": {},
   "outputs": [
    {
     "data": {
      "text/html": [
       "<div>\n",
       "<style scoped>\n",
       "    .dataframe tbody tr th:only-of-type {\n",
       "        vertical-align: middle;\n",
       "    }\n",
       "\n",
       "    .dataframe tbody tr th {\n",
       "        vertical-align: top;\n",
       "    }\n",
       "\n",
       "    .dataframe thead th {\n",
       "        text-align: right;\n",
       "    }\n",
       "</style>\n",
       "<table border=\"1\" class=\"dataframe\">\n",
       "  <thead>\n",
       "    <tr style=\"text-align: right;\">\n",
       "      <th></th>\n",
       "      <th>n</th>\n",
       "      <th>c</th>\n",
       "      <th>ct</th>\n",
       "    </tr>\n",
       "  </thead>\n",
       "  <tbody>\n",
       "    <tr>\n",
       "      <th>20</th>\n",
       "      <td>0.00</td>\n",
       "      <td>0.31</td>\n",
       "      <td>0.23</td>\n",
       "    </tr>\n",
       "    <tr>\n",
       "      <th>30</th>\n",
       "      <td>0.04</td>\n",
       "      <td>0.16</td>\n",
       "      <td>0.27</td>\n",
       "    </tr>\n",
       "    <tr>\n",
       "      <th>40</th>\n",
       "      <td>0.02</td>\n",
       "      <td>0.16</td>\n",
       "      <td>0.21</td>\n",
       "    </tr>\n",
       "    <tr>\n",
       "      <th>50</th>\n",
       "      <td>0.01</td>\n",
       "      <td>0.16</td>\n",
       "      <td>0.21</td>\n",
       "    </tr>\n",
       "  </tbody>\n",
       "</table>\n",
       "</div>"
      ],
      "text/plain": [
       "      n    c   ct\n",
       "20 0.00 0.31 0.23\n",
       "30 0.04 0.16 0.27\n",
       "40 0.02 0.16 0.21\n",
       "50 0.01 0.16 0.21"
      ]
     },
     "execution_count": 13,
     "metadata": {},
     "output_type": "execute_result"
    }
   ],
   "source": [
    "interval=np.arange(20,60,10)\n",
    "tsd=lnw5000.Close.copy()\n",
    "results=interval_adf(tsd,interval,adftype[0])\n",
    "for adf in adftype[1:]:\n",
    "        results[adf]=interval_adf(tsd,interval,adf).values\n",
    "results"
   ]
  },
  {
   "cell_type": "code",
   "execution_count": 14,
   "metadata": {},
   "outputs": [
    {
     "data": {
      "text/html": [
       "<div>\n",
       "<style scoped>\n",
       "    .dataframe tbody tr th:only-of-type {\n",
       "        vertical-align: middle;\n",
       "    }\n",
       "\n",
       "    .dataframe tbody tr th {\n",
       "        vertical-align: top;\n",
       "    }\n",
       "\n",
       "    .dataframe thead th {\n",
       "        text-align: right;\n",
       "    }\n",
       "</style>\n",
       "<table border=\"1\" class=\"dataframe\">\n",
       "  <thead>\n",
       "    <tr style=\"text-align: right;\">\n",
       "      <th></th>\n",
       "      <th>n</th>\n",
       "      <th>c</th>\n",
       "      <th>ct</th>\n",
       "    </tr>\n",
       "  </thead>\n",
       "  <tbody>\n",
       "    <tr>\n",
       "      <th>12</th>\n",
       "      <td>0.00</td>\n",
       "      <td>0.35</td>\n",
       "      <td>0.31</td>\n",
       "    </tr>\n",
       "    <tr>\n",
       "      <th>36</th>\n",
       "      <td>0.00</td>\n",
       "      <td>0.12</td>\n",
       "      <td>0.24</td>\n",
       "    </tr>\n",
       "    <tr>\n",
       "      <th>60</th>\n",
       "      <td>0.00</td>\n",
       "      <td>0.00</td>\n",
       "      <td>0.30</td>\n",
       "    </tr>\n",
       "    <tr>\n",
       "      <th>84</th>\n",
       "      <td>0.00</td>\n",
       "      <td>0.00</td>\n",
       "      <td>0.14</td>\n",
       "    </tr>\n",
       "  </tbody>\n",
       "</table>\n",
       "</div>"
      ],
      "text/plain": [
       "      n    c   ct\n",
       "12 0.00 0.35 0.31\n",
       "36 0.00 0.12 0.24\n",
       "60 0.00 0.00 0.30\n",
       "84 0.00 0.00 0.14"
      ]
     },
     "execution_count": 14,
     "metadata": {},
     "output_type": "execute_result"
    }
   ],
   "source": [
    "interval=np.arange(12,100,24)\n",
    "tsd=(lnw5000.Close.copy()).resample('M').last()\n",
    "results=interval_adf(tsd,interval,adftype[0])\n",
    "for adf in adftype[1:]:\n",
    "        results[adf]=interval_adf(tsd,interval,adf).values\n",
    "results"
   ]
  }
 ],
 "metadata": {
  "anaconda-cloud": {},
  "kernelspec": {
   "display_name": "Python 3 (ipykernel)",
   "language": "python",
   "name": "python3"
  },
  "language_info": {
   "codemirror_mode": {
    "name": "ipython",
    "version": 3
   },
   "file_extension": ".py",
   "mimetype": "text/x-python",
   "name": "python",
   "nbconvert_exporter": "python",
   "pygments_lexer": "ipython3",
   "version": "3.9.13"
  }
 },
 "nbformat": 4,
 "nbformat_minor": 1
}
