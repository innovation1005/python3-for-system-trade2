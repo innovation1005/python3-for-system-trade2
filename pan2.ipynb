{
 "cells": [
  {
   "cell_type": "markdown",
   "id": "d1fe215c",
   "metadata": {},
   "source": [
    "\n",
    "\n",
    "2.3 プログラミングの前にMarkdownの使い方を学ぶ\n",
    "\n",
    "Markdown(マークダウン)は、手軽で、読みやすい文書を簡単に書くためのエディターだと考えればよい。\n",
    "\n",
    " ![](input.jpg)\n",
    "\n",
    "Python コード用のセルは\n",
    "\n",
    "メニューからMarkdownを選択すればエディター用のセルになる。\n",
    "\n",
    "Markdownでは3つの規則により文書を作成することができる。\n",
    "1. Markdwon記法\n",
    "2. Latex\n",
    "3. HTML\n",
    "である。\n",
    "\n",
    "Markdownでは出来上がったプレーンテキスト形式の文書を簡単にHTML形式に変換することができる。 Markdownで文書が作成できたら、 「File]>「Downroad as」>「HTML(.html)」とクリックすればファイルはHTML形式に変換され、ダウンロード・ホルダーに保存される。 つぎに保存されたファイルをクリックすればブラウザー上に文書が表示される。\n",
    "ここではそれぞれについて使用頻度が高いと思われる段落、改行、太文字、斜体文字、リスト、見出し、リンク、画像の挿入、水平線、LaTex、表組みについて説明する。\n",
    "\n",
    "2.3.1 太文字：文字をダブル半角アステリスク(**)で挟む。"
   ]
  },
  {
   "cell_type": "markdown",
   "id": "bd2ec7ed",
   "metadata": {},
   "source": [
    "**innovation**"
   ]
  },
  {
   "cell_type": "markdown",
   "id": "dd0a55b8",
   "metadata": {},
   "source": [
    "と書くと"
   ]
  },
  {
   "cell_type": "markdown",
   "id": "0d650db7",
   "metadata": {},
   "source": [
    "**innovation**"
   ]
  },
  {
   "cell_type": "markdown",
   "id": "e271365f",
   "metadata": {},
   "source": [
    "と表示される。"
   ]
  },
  {
   "cell_type": "markdown",
   "id": "e579b0c6",
   "metadata": {},
   "source": [
    "2.3.2 斜体文字：文字を半角アステリスク(*)で挟む。"
   ]
  },
  {
   "cell_type": "markdown",
   "id": "29d5fe53",
   "metadata": {},
   "source": [
    "*innovation*"
   ]
  },
  {
   "cell_type": "markdown",
   "id": "0c569ee8",
   "metadata": {},
   "source": [
    "と書くと"
   ]
  },
  {
   "cell_type": "markdown",
   "id": "ad54e90f",
   "metadata": {},
   "source": [
    "*innovation*"
   ]
  },
  {
   "cell_type": "markdown",
   "id": "51e22f9d",
   "metadata": {},
   "source": [
    "と表示される。"
   ]
  },
  {
   "cell_type": "markdown",
   "id": "b16e7e8b",
   "metadata": {},
   "source": [
    "2.3.3 改行 : 行の最後に2つの半角スペースを挿入。"
   ]
  },
  {
   "cell_type": "markdown",
   "id": "8ca3f45e",
   "metadata": {},
   "source": [
    "innovation  \n",
    "革新"
   ]
  },
  {
   "cell_type": "markdown",
   "id": "c51b7d60",
   "metadata": {},
   "source": [
    " と書くと"
   ]
  },
  {
   "cell_type": "markdown",
   "id": "4c102891",
   "metadata": {},
   "source": [
    "innovation  \n",
    "革新"
   ]
  },
  {
   "cell_type": "markdown",
   "id": "45dfe5e2",
   "metadata": {},
   "source": [
    " と表示される。"
   ]
  },
  {
   "cell_type": "markdown",
   "id": "a6368699",
   "metadata": {},
   "source": [
    "2.3.4 順序無リスト: ＊＋半角スペース＋テキスト"
   ]
  },
  {
   "cell_type": "markdown",
   "id": "741753e2",
   "metadata": {},
   "source": [
    "* innovation\n",
    "* 革新"
   ]
  },
  {
   "cell_type": "markdown",
   "id": "78fe5591",
   "metadata": {},
   "source": [
    " と書くと"
   ]
  },
  {
   "cell_type": "markdown",
   "id": "4f8991f4",
   "metadata": {},
   "source": [
    "* innovation\n",
    "* 革新"
   ]
  },
  {
   "cell_type": "markdown",
   "id": "d2a72e83",
   "metadata": {},
   "source": [
    " と表示される。"
   ]
  },
  {
   "cell_type": "markdown",
   "id": "8831eee4",
   "metadata": {},
   "source": [
    "2.3.5 順序付リスト: 1(数字).＋半角スペース＋テキスト"
   ]
  },
  {
   "cell_type": "markdown",
   "id": "6e04941b",
   "metadata": {},
   "source": [
    "1. innovation\n",
    "2. 革新"
   ]
  },
  {
   "cell_type": "markdown",
   "id": "ed95f957",
   "metadata": {},
   "source": [
    " と書くと"
   ]
  },
  {
   "cell_type": "markdown",
   "id": "8eb454db",
   "metadata": {},
   "source": [
    "1. innovation\n",
    "2. 革新"
   ]
  },
  {
   "cell_type": "markdown",
   "id": "d02211d5",
   "metadata": {},
   "source": [
    " と表示される。"
   ]
  },
  {
   "cell_type": "markdown",
   "id": "65b91187",
   "metadata": {},
   "source": [
    " 2.3.6 段落：書き込みのない行を段落の前に入れると段落ができる。"
   ]
  },
  {
   "cell_type": "markdown",
   "id": "f5f77ff8",
   "metadata": {},
   "source": [
    "make innovation happen\n",
    "\n",
    "革新を生む"
   ]
  },
  {
   "cell_type": "markdown",
   "id": "a9c7c981",
   "metadata": {},
   "source": [
    "  と書くと"
   ]
  },
  {
   "cell_type": "markdown",
   "id": "3c2b7678",
   "metadata": {},
   "source": [
    "make innovation happen\n",
    "\n",
    "革新を生む"
   ]
  },
  {
   "cell_type": "markdown",
   "id": "4db64e8b",
   "metadata": {},
   "source": [
    "と表示される。"
   ]
  },
  {
   "cell_type": "markdown",
   "id": "3fd14bdc",
   "metadata": {},
   "source": [
    "2.3.7 見出し: ＃レベル1の見出し、＃＃レベル2の見出し"
   ]
  },
  {
   "cell_type": "markdown",
   "id": "cf22d8e3",
   "metadata": {},
   "source": [
    "# 革新\n",
    "## innovation"
   ]
  },
  {
   "cell_type": "markdown",
   "id": "06cda29e",
   "metadata": {},
   "source": [
    " と書くと"
   ]
  },
  {
   "cell_type": "markdown",
   "id": "ed6f67ab",
   "metadata": {},
   "source": [
    "# 革新\n",
    "## innovation"
   ]
  },
  {
   "cell_type": "markdown",
   "id": "e9db8e7f",
   "metadata": {},
   "source": [
    " と表示される。"
   ]
  },
  {
   "cell_type": "markdown",
   "id": "8d2bf29d",
   "metadata": {},
   "source": [
    "2.3.8 リンク: [リンクのテキスト]（リンクのアドレス　\"リンクのタイトル”）"
   ]
  },
  {
   "cell_type": "markdown",
   "id": "bcf8a92c",
   "metadata": {},
   "source": [
    "[pan](http://www.panrolling.com/map01.htm1)"
   ]
  },
  {
   "cell_type": "markdown",
   "id": "c5ae98bf",
   "metadata": {},
   "source": [
    " と書くと"
   ]
  },
  {
   "cell_type": "markdown",
   "id": "48c6044a",
   "metadata": {},
   "source": [
    "[pan](http://www.panrolling.com/map01.htm1)"
   ]
  },
  {
   "cell_type": "markdown",
   "id": "f528fc98",
   "metadata": {},
   "source": [
    "と表示される。"
   ]
  },
  {
   "cell_type": "markdown",
   "id": "1c19d903",
   "metadata": {},
   "source": [
    "2.3.9 画像: [画像のテキスト]（画像のアドレス　\"画像のタイトル”）\n",
    "\n",
    "リンク(2.3.8)参照\n",
    "\n",
    "2.3.10 水平線：一行にハイフン、アスタリスク、アンダーバーを続けて3つ挿入"
   ]
  },
  {
   "cell_type": "markdown",
   "id": "8ce3ba13",
   "metadata": {},
   "source": [
    "---\n",
    "***\n",
    "___"
   ]
  },
  {
   "cell_type": "markdown",
   "id": "53866fe9",
   "metadata": {},
   "source": [
    " と書くと"
   ]
  },
  {
   "cell_type": "markdown",
   "id": "7a062f36",
   "metadata": {},
   "source": [
    "---\n",
    "***\n",
    "___"
   ]
  },
  {
   "cell_type": "markdown",
   "id": "7603fb40",
   "metadata": {},
   "source": [
    "と表示される。  "
   ]
  },
  {
   "cell_type": "markdown",
   "id": "716069e4",
   "metadata": {},
   "source": [
    "2.3.11 LaTex: ＄と＄の間に数式を書き込む。LaTexの文法を採用。"
   ]
  },
  {
   "cell_type": "markdown",
   "id": "a289ac15",
   "metadata": {},
   "source": [
    "$x=y+z$"
   ]
  },
  {
   "cell_type": "markdown",
   "id": "c106bfad",
   "metadata": {},
   "source": [
    "と書くと"
   ]
  },
  {
   "cell_type": "markdown",
   "id": "c080fff3",
   "metadata": {},
   "source": [
    "$x=y+z$"
   ]
  },
  {
   "cell_type": "markdown",
   "id": "62d1e024",
   "metadata": {},
   "source": [
    "と表示される。"
   ]
  },
  {
   "cell_type": "markdown",
   "id": "c06b9214",
   "metadata": {},
   "source": [
    "2.3.12 表組み：\n",
    "\n",
    "innovation, 革新、イノベーション\n",
    "\n",
    "を項目として表を組みたい場合に,最初の行で\n",
    "```\n",
    "   |    を用いて枠組みを確定する。| |の間にこれらの項目を記す。\n",
    "```\n",
    "\n",
    "次の行で右寄せ、左寄せ、中央寄せを決める。それぞれ\n",
    "\n",
    "```\n",
    "|:---|, |---:|, |:---:|.  \n",
    "```\n",
    "である。"
   ]
  },
  {
   "cell_type": "markdown",
   "id": "ce4ee302",
   "metadata": {},
   "source": [
    "|innovation|革新|イノベーション|\n",
    "|:---|---:|:---:|\n",
    "|22|22|33\n",
    "|a|b|c|"
   ]
  },
  {
   "cell_type": "markdown",
   "id": "cac88b9d",
   "metadata": {},
   "source": [
    "と書くと"
   ]
  },
  {
   "cell_type": "markdown",
   "id": "b6a48bf5",
   "metadata": {},
   "source": [
    "|innovation|革新|イノベーション|\n",
    "|:---|---:|:---:|\n",
    "|22|22|33\n",
    "|a|b|c|"
   ]
  },
  {
   "cell_type": "markdown",
   "id": "e05ff2b9",
   "metadata": {},
   "source": [
    "と表示される。"
   ]
  },
  {
   "cell_type": "markdown",
   "id": "61a7fddc",
   "metadata": {},
   "source": [
    "2.4 プログラミングとその実行\n",
    "\n",
    "　今度は"
   ]
  },
  {
   "cell_type": "code",
   "execution_count": null,
   "id": "202976e2",
   "metadata": {},
   "outputs": [],
   "source": [
    "innovation=\"make innovation happen\""
   ]
  },
  {
   "cell_type": "markdown",
   "id": "ac1abb99",
   "metadata": {},
   "source": [
    "の右側のセルにプログラムを書き込む。変数innovationに文字列make innovation happenを代入してみよう。"
   ]
  },
  {
   "cell_type": "markdown",
   "id": "b3dd578d",
   "metadata": {},
   "source": [
    "これだけでは本当にinnovationにmake innovation happenが代入されたかどうかわからないので、\n",
    "次の行にinnovationと打つ。これはinnovationの中身を出力しろという命令である。"
   ]
  },
  {
   "cell_type": "code",
   "execution_count": 1,
   "id": "ac220d1b",
   "metadata": {},
   "outputs": [
    {
     "data": {
      "text/plain": [
       "'make innovation happen'"
      ]
     },
     "execution_count": 1,
     "metadata": {},
     "output_type": "execute_result"
    }
   ],
   "source": [
    "innovation=\"make innovation happen\"\n",
    "innovation"
   ]
  },
  {
   "cell_type": "markdown",
   "id": "1c097a58",
   "metadata": {},
   "source": [
    "つぎのように書くと\n",
    "![](つぎ.jpg)\n",
    "![](つぎ2.jpg)\n",
    "と表示される。\n",
    "\n",
    "\n",
    "2.4 本書で用いるデータソース\n",
    "\n",
    "本書では３つのデータソースを使う。\n",
    "\n",
    "1. FRED\n",
    "2. US Yahoo Finance\n",
    "3. CQG\n",
    "\n",
    "FREDはFederal Reserve Economic Dataの略で米国連邦準備制度のセントルイス連銀が運営する経済を提供するサイトである。世界中の110のデータソースから819,000の時系列データを提供している。URLは\n",
    "\n",
    "https://fred.stlouisfed.org/\n",
    "\n",
    "である。ここからpandas_datareaderを使うとデータをダウンロードできる。\n",
    "\n",
    "![](fred.jpg)\n",
    "\n",
    "WEBサイトは日本語翻訳されている。オリジナルは英語。\n",
    "\n",
    "また、US Yahoo Financeからは米国株価をダウンロードする。このサイトからもAPIを用いて、データをダウンロードできるのだが、ときとしてサービスを停止するので、データを手動でダウンロードすることを前提とする。URLは\n",
    "\n",
    "https://finance.yahoo.com/\n",
    "\n",
    "\n",
    "![](yahoo.jpg)\n",
    "\n",
    "Quote Lookupの欄に株価コードを入力してほしい。個別株のページからHistorical Dataのタグをクリック、Downloadボタンを押すと過去の株価データが得られる。\n",
    "\n",
    "CQG Data Factoryからはさまざまな金融関連のデータが得られるが、有料である。日経株価平均先物のティックデータを取得している。URLは\n",
    "\n",
    "https://www.cqg.com/products/historical-data/cqg-data-factory\n",
    "\n",
    "![](cqg.jpg)"
   ]
  },
  {
   "cell_type": "code",
   "execution_count": null,
   "id": "5244e377",
   "metadata": {},
   "outputs": [],
   "source": []
  }
 ],
 "metadata": {
  "kernelspec": {
   "display_name": "Python 3 (ipykernel)",
   "language": "python",
   "name": "python3"
  },
  "language_info": {
   "codemirror_mode": {
    "name": "ipython",
    "version": 3
   },
   "file_extension": ".py",
   "mimetype": "text/x-python",
   "name": "python",
   "nbconvert_exporter": "python",
   "pygments_lexer": "ipython3",
   "version": "3.9.13"
  }
 },
 "nbformat": 4,
 "nbformat_minor": 5
}
