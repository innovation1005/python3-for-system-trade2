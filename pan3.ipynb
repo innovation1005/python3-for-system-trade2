{
 "cells": [
  {
   "cell_type": "markdown",
   "metadata": {},
   "source": [
    "第3章 まずはPythonから\n",
    "\n",
    "　Pythonで書かれたプログラムは、誰にとっても読みやすく、理解しやすい。 そのためかサンプルプログラムの活用がしやすく、自分でも書きたいプログラムをすぐに書けるようになる。プログラムのコードは実行されるために書かれるのだが、多くの人に読まれるのだということも大切だ。\n",
    "\n",
    "3.1 やりたいことは何だ？\n",
    "\n",
    "　ネットワーク上にあるデータベースから金融経済関連データをダウンロードし、 そのデータを分析し、安定した収益を生み出す投資・取引戦略を構築したい！！\n",
    "\n",
    "3.1.1 まずラストリゾートを知っておこう\n",
    "\n",
    "　どんなに勢い良く突進していても前に進めなくなってしまうときがある。そのような状況で戻るべきところあると便利である。その場所を紹介しておこう。\n",
    "\n",
    "Python言語リファレンス　http://docs.python.jp/3/reference/index.html#reference-index　と\n",
    "\n",
    "Python標準ライブラリ　\n",
    "http://docs.python.jp/3/library/index.html　　\n",
    "\n",
    "前者はPythonの構文について詳しく説明されていて、後者は標準ライブラリについての説明がある。\n",
    "\n",
    "　また、十分にプログラミングの経験のある読者ならこの2つの文書をしばらく眺めているだけでPythonのイメージがつかめてしまうかもしれない。そのような場合には随時WEB上で疑問点を検索すれば答えが得られてしまう。 また、もっとサンプルを見ながらPythonを学習したいという読者も多いかもしれない。そのような場合にはPython Japanの公式サイトがお勧めである。\n",
    "https://www.python.jp/\n",
    "\n",
    "最近は翻訳機能が充実しているので多言語で探索するのも手だ。\n",
    "\n",
    "3.1.2 必要なライブラリを意識しよう\n",
    "\n",
    "　例えば、\n",
    "\n",
    "1.\tFREDから日経平均株価のデータをダウンロード  \n",
    "2.\t価格の対数収益率を算出  \n",
    "3.\tチャート、ヒストグラムなどを描画\n",
    "4.  価格の大まかな動きを把握  \n",
    "4.\t統計的処理を施して、株価の動きの特徴を理解  \n",
    "5.\t以上の分析から戦略を立て、バックテスト、モンテカルロシミュレーションなどを用いて戦略の有効性をチェックする。この作業に必要なライブラリは、つぎの4つである。\n",
    " \n",
    "Pandas(データ分析ライブラリ)  \n",
    "NumPy/SciPy(数値解析ライブラリ)  \n",
    "Matplotlib(グラフ描画ライブラリ)  \n",
    "statsmodels(統計ライブラ)  \n",
    "である。これら4つのライブラリを自由に使いこなせるようになろう。\n",
    "\n",
    "　そうすれば自ずと道は開かれる！！\n",
    "\n",
    "3.2 Pythonでプログラミングをはじめよう\n",
    "\n",
    "　まずPythonで戸惑うのはべき乗演算と配列の作成ではないだろうか？金融関連のユーザーはこの2つを多用するので、この2つの方法が簡単に手に入らないと、それだけであきらめてしまう。多くのユーザーはPythonのべき乗演算が半角アステリスク($*$)を2つ並べると知ったとたんに驚嘆して断念してしまう。ほとんどのプログラミング言語ではハットマーク(^)1つで済んでいた演算が2文字になってしまうのだから当然だ。\n",
    "\n",
    "　配列も問題だ！WEB上で「Python、配列」と検索すると「データ構造」、「リスト、タプル、辞書」に関するページが多数ヒットされる。しかし、なかなかスプレッドシート(表)風の配列に行き当たらない。そして、「配列」という言葉を発見するとそれは「Nampy配列」であったりする。それでもリスト、タプル、辞書が配列に似ているという直観から、仕方なくこれらを使い始める。しかし、金融関連のユーザーが多用する2次元配列で壁にぶつかってしまう。これに随分と手間取った挙句にここで断念してしまうユーザーもいるのではないだろうか？\n",
    "\n",
    "　しかし、Pythonを使う理由はこのデータの扱い方にあるといっても過言ではない。金融関連のユーザーであればこれらの演算スピードを実感してしまうと、もう手放せなくなってしまう。それにデータを管理・加工する際の使い勝手は最高だ。\n",
    " \n",
    "　また、本書の読者のなかにはプログラミングとは全く無縁であったという人もいるに違いない。やりたいことが明確に意識され、自分の業務が理解できている人であれば、特にプログラミングの知識がなくても、また特別な教育を受けていなくても、プログラムを英語の文章だと思って読んでくださいといっただけで、1年後には立派なプログラマーになっている。\n",
    "  \n",
    "では心の準備ができたので前進！\n",
    "\n",
    "\n",
    "3.2.1 プログラムの書き方の様式\n",
    "\n",
    "　Pythonのプログラムが、誰にとっても読みやすく、理解しやすいのは、プログラムのブロック構造が『字下げ』により決まるところが大きい。そのために行構造を理解しておくと便利である。\n",
    "1.\t行(物理行)は改行によって終わる。  \n",
    "2.\t複数行(物理行)にわたってプログラムを書くときには行の終わりにバックスラッシュ文字$\"(\\)\"$を置く。そうするとそれは論理行になる。  \n",
    "3.\t論理行の先頭は、実行文のグループ化の判断に用いられる。『字下げ』の位置が重要な理由はここにある。  \n",
    "4.\tコメントが1行の場合には先頭をシャープ(#)で始める。\n",
    "\n",
    "　非常に重要な点を4つのポイントとして表現したが、これでわかってしまう人は天才だ。まず、ポイント2についてポイント4を使って入力[1]で説明してみよう。"
   ]
  },
  {
   "cell_type": "code",
   "execution_count": 1,
   "metadata": {},
   "outputs": [
    {
     "data": {
      "text/plain": [
       "'１行に書いてよい文字数は半角で７２文字まで、これは全角で３６文字になる。これを超えるとバックスラッシュで行を変える。もちろん、読みやすくなるのであれば、７２文字にこだわる必要はない。'"
      ]
     },
     "execution_count": 1,
     "metadata": {},
     "output_type": "execute_result"
    }
   ],
   "source": [
    "# aという変数に文字列を入力した。その文字列は文章になっていて、一行に\n",
    "# \"たくさん書くと読みづらいので半角で72文字にしましょう\"、という暗黙の\n",
    "# 取り決めについて説明している。入力[1]のセルの最後にaと書いたのは、こ\n",
    "# れでaの内容が出力[1]に表示されるからである。つまり、入力[1]のセルの\n",
    "# 内容は改行によって読みやすくなっている。これはスクリーンのサイズによ\n",
    "# らずに誰にでも読みやすいように、コードを書きましょうという配慮だ。\n",
    "a='１行に書いてよい文字数は半角で７２文字まで、これは全角で３６文字\\\n",
    "になる。これを超えるとバックスラッシュで行を変える。もちろん、\\\n",
    "読みやすくなるのであれば、７２文字にこだわる必要はない。'\n",
    "a"
   ]
  },
  {
   "cell_type": "markdown",
   "metadata": {},
   "source": [
    "　つぎにポイント1,3について同様にコメント'#'を使いながら入力[2]で説明していこう。"
   ]
  },
  {
   "cell_type": "code",
   "execution_count": 2,
   "metadata": {},
   "outputs": [
    {
     "name": "stdout",
     "output_type": "stream",
     "text": [
      "2\n",
      "printにより内容を表示\n",
      "3\n",
      "printにより内容を表示\n"
     ]
    }
   ],
   "source": [
    "a=2     #1行目の処理：変数aに整数2を入力。行は改行により終わる。\n",
    "b=3     #2行目の処理：処理は一行に1つが理想\n",
    "c=[a,b] #3行目の処理:a,bをまとめてcとして格納する処理\n",
    "#つぎの処理for ～ in 〰　は複合文といいちょっと難しい。\n",
    "#英語風に読むと、cの中のdのための処理ぐらいの意味？\n",
    "#forの意味はその下の行に関連して、繰り返しの意味がある。\n",
    "for d in c:\n",
    "    print(d)#この字下げの後の論理業は実行文のグループ化をしている。\n",
    "    print(\"printにより内容を表示\")\n",
    "#このような書き方はよい書き方。\n",
    "#悪い書き方はすべてを1行でかくこと。\n",
    "# for d in c: print(d);print(\"printにより内容を表示\")"
   ]
  },
  {
   "cell_type": "markdown",
   "metadata": {},
   "source": [
    "### 入力[2]の実行の結果は上記の4行にわたる。\n",
    "\n",
    "* 一行目の2はprint(d)の実行結果で、dの中にあるa=2の印刷\n",
    "* 二行目の\"printにより内容を印刷\"はprint(\"printにより内容を印刷\")の結果\n",
    "* 三行目の3はprint(d)の実行結果で、dの中にあるb=3の印刷\n",
    "* 四行目は二行目に同じ\n",
    "つまり、字下げの後のprint(d)とprint(\"printにより内容を印刷\")は処理がグループ化されている。\n",
    "\n",
    "3.2.2 データについて\n",
    "\n",
    "　データ、要因、要素、データ点(データポイント)はあいまいな使い方がされていて、混乱を招くことが多い。データはデータ点(datapoint, datum)、つまり1つ1つの個々のデータのあつまりのことであり、要因はデータ点の特徴によりグループ化したものだ。要素はあいまいにいろいろな意味に使われるが、本書ではデータ点と同義語とする。\n",
    " \n",
    "3.2.3 データモデル\n",
    "\n",
    "　本書を読むためには難しいプログラミングの知識はいらない。逆に無駄な知識は本書の内容を理解する障害になってしまうかもしれない。しかし、最低限の取り決めは、理解を加速する。データモデルは、データを処理する過程でオブジェクト(obj)とその属性、そしてメソッドがどのように機能し、相互作用するかを規定している。最初はオブジェクトといわれるとピンとこないかもしれないが、なれるとこちらの方が自然だ。\n",
    "\n",
    "* オブジェクト\n",
    "\n",
    "　Pythonではすべてのデータがオブジェクトとなる。日経平均株価の過去の価格データを考えてみよう。まずPythonでは、この価格データはオブジェクトである。つぎに、この価格データには日付が付いているので、その日付もオブジェクトである。価格データが始値、高値、安値、終値で構成されていれば、それらもオブジェクトである。オブジェクトは同一性、型と値をもつ。同一性はそれぞれのオブジェクトのid(アドレス)だと考えればよい。いろいろなオブジェクトの種類があるので、それを型と呼んで区別する。たとえば、リストに1つの始値を登録すれば、始値は数値であるので、浮動小数点型、価格の値は始値そのものとなる。同一性を意識することはない。始値を別の数値に変更しても、型を整数型に変更しても、同一性は変更されない。\n",
    "\n",
    "* リスト、タプルと辞書\n",
    "\n",
    "　リストはデータを格納するオブジェクトでその内容を変えることができる。データの各要素には番号が割り振られていて、それは順序付き整数となる。これはインデックスの役目を果たす。a=[c,d,e]というようにデータを角括弧でくくって作る。要素c,d,eには、0,1,2という数字がインデックスとして割り振られる。つぎは辞書だ。これはリストと似ているが、インデックスを自分で指定できる。かつ、文字列でも機能する。波括弧とコロンを用いる。a={\"x\":b,\"y\":c}の場合、\"x\"と\"y\"がインデックスだ。３つ目はタプルだ。これはリストに似ているが鍵括弧ではなく丸括弧を用いて作る。内容の変更はできないので、演算結果の出力としてよく用いられる。\n",
    "\n",
    "\n",
    "* シーケンス\n",
    "\n",
    "　リストとタプルはシーケンスだ。インデックスが順序を持った有限な整数だからだ。ちなみに文字列型もシーケンス型である。辞書はインデックスが順序を持った整数ではないのでシーケンスではない。辞書はこの性質からマッピング型と呼ばれる。\n",
    "\n",
    "* 呼び出し可能型\n",
    "\n",
    "　ユーザー定義関数、組み込み関数、組み込みメソッドは、関数呼び出しができる型である。\n",
    "\n",
    "* モジュール\n",
    "\n",
    "　呼び出し可能型の集まり。\n",
    "\n",
    "* ファイルオブジェクト\n",
    "\n",
    " ファイルオブジェクトは開かれたファイルのこと。\n",
    " \n",
    " データモデルの大まかな概念を表3.1にまとめた。\n",
    " \n",
    "||表3.1: データモデル|\n",
    "|:---|:---|\n",
    "|シーケンス型| 有限な順序集合\n",
    "||1.変更不能なシーケンス型：文字列、タプル型\n",
    "||2.変更可能なシーケンス型：リスト型 \n",
    "|数値型|　　 整数型、長整数型、浮動小数点型、複素数型\n",
    "|マッピング型|辞書型\n",
    "|呼び出し可能型|関数の呼び出しが可能な型\n",
    "||1.\tユーザー定義関数  \n",
    "||2.\tユーザー定義メソッド  \n",
    "||3.\t組み込み関数  \n",
    "||4.\t組み込みメソッド  \n",
    "|モジュール|呼び出し可能型の集合\n",
    "|ファイルオブジェクト| 開かれたファイル\n",
    "\n",
    "　ここでのデータモデルとは、Pythonが内部でデータを扱い処理するプロセスのことだ。データを構成するさまざまな要素を整理し、標準化し、データ同士の関連性や実世界で起きた事象の特性をも整理し標準化するものだ。"
   ]
  },
  {
   "cell_type": "markdown",
   "metadata": {},
   "source": [
    "3.2.4 式\n",
    "\n",
    "　データを構成するさまざまな要素の整理、標準化は式という形でも実行される。本書で使う主のものは足し算、引き算、掛け算、割り算の四則演算であるが、大小の比較、その結果の表現としてブール値などを用いる。Pythonの式についての説明は簡単に表3.2にまとめた。\n",
    "\n",
    "||表3.2: 式|\n",
    "|:---|:---|\n",
    "|算術変換|\n",
    "||1.1つの引数が複素数型であると、他も複素数型  \n",
    "||2.引数に複素数型が無く、1つに浮動小数点があれば他も浮動小数点  \n",
    "||3.引数に複素数、浮動小数点が無く、1つが長整数であれば他も長整数  \n",
    "|算術演算|四則演算子は「+,-,$*$,/」\n",
    "|べき乗演算|べき乗演算子はハットマーク(^)ではなくダブル半角アステリスク (**)\n",
    "|比較演算|\"<\"、\">\"、\"==\"、\"<>\"、\"!=\" ;結果は真(True)、または偽(False)\n",
    "||比較はいくらでも連鎖可能\n",
    "||a＜b＜c＜dなど。 その他は\"is\"、\"not is\"、\"in\"、\"not in\"\n",
    "||1.\"is\"、\"not is\"はデータの属性チェック  \n",
    "||2.\"in\"、\"not in\"はコレクション型の要素のチェック  \n",
    "|ラムダ|無名関数を構築する記法\n",
    "\n",
    "　表3.2の比較演算の中にコレクションという用語が出てくる。これは、リスト、タプル、辞書、集合(本書では使わない)を指す。シーケンスはコレクションの中で構成する要素が一定の順序で並んでいるもので、順序により要素を取り出せるものをいう。はじめてプログラミングを学ぶ人にとって、シーケンスとかコレクションという概念は余分で難しいに違いない。この後にイテラブルというさらに難しい概念も出てくる。まずはブラックボックスとして扱っても構わない。しかし、本書の15章以降の高頻度取引の処理で処理スピードを重視するならば、これらの概念は高速処理の方法を考える中核になる。\n",
    "\n",
    "3.2.5 単純文\n",
    "\n",
    "　文が1つの論理行に収まる場合を単純文という。表3.3はその要約である。\n",
    "\n",
    "||表3.3: 単純文|\n",
    "|:---|:---|\n",
    "|del文|オブジェクトを削除\n",
    "|return文|戻り値を返し、所属する関数呼び出しから抜ける\n",
    "|break文|最も内側のループを終了\n",
    "|import文|モジュールの検索、初期化、ローカル名の定義\n",
    "\n",
    "3.2.6 複合文\n",
    "\n",
    "　複合文は複数行にまたがり、他の文の実行に何らかの制御を与える。ここではif文とfor文を説明する。表3.4は複合文の簡単なまとめである。本書ではこれ以外は使わない。\n",
    "\n",
    "||表3.4: 複合文|\n",
    "|:---|:---|\n",
    "|if 文|条件分岐\n",
    "|for文|各要素に対して処理を反復\n",
    "\n",
    "　if文はもし～であれば、処理１を施し、そうでなければ処理２を施すというときに用いられる。条件により適切な処理を施すコンピュータの最も得意な処理だ。しかし、これは多用するとコードが複雑になるし、処理も複雑になり、エラーの原因ともなりかねない。Pythonでは特に処理が遅くなるといわれる。\n",
    " \n",
    "例："
   ]
  },
  {
   "cell_type": "code",
   "execution_count": 3,
   "metadata": {},
   "outputs": [
    {
     "name": "stdout",
     "output_type": "stream",
     "text": [
      "a=1で\n",
      "a足すbは3である。c= 3\n",
      "a引くbは-1である。d= -1\n",
      "a掛けるbは2である。e= 2\n",
      "b割るaは0.5である。f= 0.5\n"
     ]
    }
   ],
   "source": [
    "a=1\n",
    "b=2\n",
    "c=a+b\n",
    "d=a-b\n",
    "e=a*b\n",
    "f=a/b\n",
    "if a==1:\n",
    "    print(\"a=1で\")\n",
    "    print(\"a足すbは3である。c=\",c)\n",
    "    print(\"a引くbは-1である。d=\",d)\n",
    "    print(\"a掛けるbは2である。e=\",e)\n",
    "    print(\"b割るaは0.5である。f=\",f)\n",
    "else:\n",
    "    print(\"a は1ではない。\")"
   ]
  },
  {
   "cell_type": "markdown",
   "metadata": {},
   "source": [
    " for文も同様である。Basic言語ではfor i=1 to 10 step 1というような書き方をする。iを1からはじめて、1 stepごとにiに１を加えて、i=10になるまで繰り返す、というような繰り返し処理に用いる。これもコンピュータの得意とする処理である。人であれば繰り返し処理は簡単に間違えるが、コンピューターは忠実にこなす。しかし、for文もif文同様に多用は禁物といわれる。Pythonでのfor文はinメソッドとペアで用いる。inのあとに来るのはコレクションだ。\n",
    " \n",
    "for x in <コレクション>:  \n",
    "    <繰り返し処理>  \n",
    "    \n",
    "とすると、xにはコレクションのつぎの値が返される。"
   ]
  },
  {
   "cell_type": "code",
   "execution_count": 4,
   "metadata": {},
   "outputs": [
    {
     "name": "stdout",
     "output_type": "stream",
     "text": [
      "for文はイテラブルというオブジェクトのコレクションに繰り返し処理を施す。"
     ]
    }
   ],
   "source": [
    "for x in [\"for文は\",\"イテラブルという\",\"オブジェクトのコレクションに\",\\\n",
    "         \"繰り返し処理を施す。\"]:\n",
    "    print(x,end=\"\")#end=\"\"により出力の改行はしない"
   ]
  },
  {
   "cell_type": "markdown",
   "metadata": {},
   "source": [
    "3.3 いよいよPython 標準ライブラリについて学ぼう\n",
    "\n",
    "　Python標準ライブラリには、プログラム言語の核となるデータ型と組み込み関数、変更可能シーケンス型のリストが含まれる。組み込み関数は表3.5に、組み込み型は表3.6に、シーケンスに共通な演算を表3.7にまとめた。詳しく知りたい人は以下を参照してほしい。\n",
    " \n",
    "https://docs.python.org/ja/3/library/index.html#library-index\n",
    "\n",
    "\n",
    "||表3.5: 組み込み関数|\n",
    "|:---|:---|\n",
    "|1.abs(x) :|絶対値を返す。\n",
    "|2.enumerate(iterable):|カウントと値のタプルのリストを返す\n",
    "|3.float(x) : |浮動小数点に変換する。  \n",
    "|4.int(x) : |整数に変換する。  \n",
    "|5.max(iterable) : |最大値を返す。  \n",
    "|6.min(iterable) : |最小値を返す。  \n",
    "|7.print(object) : |出力する。  \n",
    "|8.range(stop) : |1からstopまでの整数のリストを返す。  \n",
    "|9.sorted(iterable) : |順番を並べ替える。  \n",
    "|10.sum(iterable) : |合計を返す。  \n",
    "|11.type(object): |オブジェクトの型を返す。\n",
    "|12.zip($*$iterable) : |タプルのリストを返す。  \n",
    "|x:数または文字列、|object:オブジェクト、iterable:イテラブル\n",
    "\n",
    "||表3.6: 組み込み型|\n",
    "|:---|:---|\n",
    "|組み込み型||\n",
    "|数値型|動的型付言語：実行したときに変数の型が決定\n",
    "|シーケンス型|n個の要素をもつシーケンスから成りインデックスをもつ要素の集合\n",
    "||**変更不能シーケンス型:**\n",
    "||ー　文字列: 単引用符、2重引用符によってくくる。\n",
    "||ー　タプル：複数の要素をカンマで区切り丸括弧( ) でくくる。\n",
    "||**変更可能シーケンス型:**|\n",
    "||リスト：リストは幾つかの変数をグループとして扱うデータ構造\n",
    "|マッピング型||\n",
    "||辞書：インデックス化されたオブジェクトの集合\n",
    "\n",
    "||表3.7:シーケンスに共通の演算|\n",
    "|:---|:---|\n",
    "||s,tは同じ型のリスト,タプル,rangeのシーケンス\n",
    "|s+t |文字列の連結は「+」\n",
    "|s[i] |s[i] sのゼロから数えてi番目の要素を選択\n",
    "|スライス:|条件を満たすインデックスをもつすべての要素を抽出\n",
    "||s[i:j]: sのiからj番目までの要素を選択\n",
    "||s[i:j:k]: sのiからj番目までの要素をk毎にスライス\n",
    "||s[:]: 全てのデータを抽出|\n",
    "||s[::-1]:全てのデータを逆順にして抽出|\n",
    "|x in s|sのある要素がxと等しければTrue|\n",
    "|len(s)|sの長さ|\n",
    "|min(s)|sの最小値|\n",
    "|max(s)|sの最大値|\n",
    "\n",
    "例："
   ]
  },
  {
   "cell_type": "code",
   "execution_count": 5,
   "metadata": {},
   "outputs": [
    {
     "data": {
      "text/plain": [
       "True"
      ]
     },
     "execution_count": 5,
     "metadata": {},
     "output_type": "execute_result"
    }
   ],
   "source": [
    "# テキストシーケンス型に'vw'が含まれればTrue\n",
    "'vw' in \"vwxyz\""
   ]
  },
  {
   "cell_type": "code",
   "execution_count": 6,
   "metadata": {},
   "outputs": [
    {
     "data": {
      "text/plain": [
       "True"
      ]
     },
     "execution_count": 6,
     "metadata": {},
     "output_type": "execute_result"
    }
   ],
   "source": [
    "# 文字xがリストの要素に含まれればTrueを返す。\n",
    "'x' in [\"x\",\"y\",\"z\"]"
   ]
  },
  {
   "cell_type": "code",
   "execution_count": 7,
   "metadata": {},
   "outputs": [
    {
     "name": "stdout",
     "output_type": "stream",
     "text": [
      "123"
     ]
    }
   ],
   "source": [
    "#end=\"\"により出力が改行されない。\n",
    "for i in [1,2,3]:\n",
    "    print(i,end='') "
   ]
  },
  {
   "cell_type": "code",
   "execution_count": 8,
   "metadata": {},
   "outputs": [
    {
     "name": "stdout",
     "output_type": "stream",
     "text": [
      "x 1\n",
      "y 2\n",
      "z 3\n"
     ]
    }
   ],
   "source": [
    "# ２つのリストを同時に処理\n",
    "for i,j in zip([\"x\",\"y\",\"z\"], [1,2,3]):\n",
    "    print(i,j)"
   ]
  },
  {
   "cell_type": "markdown",
   "metadata": {},
   "source": [
    "3.4 リストについてさらに学ぶ\n",
    "\n",
    "　リスト型はPythonの中核をなし、有用なメソッドをもつ。リストは変更可能なシーケンス型だ。角括弧([ ]) のなかに要素、数式をカンマで区切って並べて作る。関数len()を用いて、要素数を得ることができる。シーケンスの長さがnの場合、そのインデックスは0,...,n-1となる。シーケンスsのインデックスiの要素はs[i]で得ることができる。スライス操作をサポートしているので、インデックスkのすべての要素をs[i:j]で選択することができる。この場合i$\\le$k<jである。\n",
    " \n",
    "　シーケンスsの要素1,2,3,4,5を表示するには"
   ]
  },
  {
   "cell_type": "code",
   "execution_count": 9,
   "metadata": {},
   "outputs": [
    {
     "data": {
      "text/plain": [
       "[1, 2, 3, 4, 5]"
      ]
     },
     "execution_count": 9,
     "metadata": {},
     "output_type": "execute_result"
    }
   ],
   "source": [
    "s=[1,2,3,4,5]\n",
    "s"
   ]
  },
  {
   "cell_type": "markdown",
   "metadata": {},
   "source": [
    "とすればよい。最後の行に変数sを置くと、printを必要とせずに表示できる。これはJupyter notebook（Ipython notebook）の機能の1つだ。きれいで見やすい表示をしてくれる。\n",
    "\n",
    "　s[i]のiはインデックスで、指定した要素はタプルで返される。"
   ]
  },
  {
   "cell_type": "code",
   "execution_count": 10,
   "metadata": {},
   "outputs": [
    {
     "data": {
      "text/plain": [
       "(1, 2, 3, 4, 5)"
      ]
     },
     "execution_count": 10,
     "metadata": {},
     "output_type": "execute_result"
    }
   ],
   "source": [
    "s[0],s[1],s[2],s[3],s[4]"
   ]
  },
  {
   "cell_type": "markdown",
   "metadata": {},
   "source": [
    "スライス操作でも要素を得ることができる。リストで返される。"
   ]
  },
  {
   "cell_type": "code",
   "execution_count": 11,
   "metadata": {},
   "outputs": [
    {
     "data": {
      "text/plain": [
       "[1, 2, 3, 4, 5]"
      ]
     },
     "execution_count": 11,
     "metadata": {},
     "output_type": "execute_result"
    }
   ],
   "source": [
    "s[0:5]"
   ]
  },
  {
   "cell_type": "markdown",
   "metadata": {},
   "source": [
    "s[-5:]のようにスライス操作で後ろから指定することもできる。s[:]はすべてのデータを表示し、s[::-1]はデータを反転している。"
   ]
  },
  {
   "cell_type": "code",
   "execution_count": 12,
   "metadata": {},
   "outputs": [
    {
     "name": "stdout",
     "output_type": "stream",
     "text": [
      "後ろから指定  [1, 2, 3, 4, 5]\n",
      "全ての要素  [1, 2, 3, 4, 5]\n",
      "データの反転  [5, 4, 3, 2, 1]\n"
     ]
    }
   ],
   "source": [
    "print('後ろから指定 ',s[-5:])\n",
    "print('全ての要素 ',s[:])\n",
    "print('データの反転 ',s[::-1])"
   ]
  },
  {
   "cell_type": "markdown",
   "metadata": {},
   "source": [
    "リストは連結も可能。"
   ]
  },
  {
   "cell_type": "code",
   "execution_count": 13,
   "metadata": {},
   "outputs": [
    {
     "data": {
      "text/plain": [
       "[1, 2, 3, 4, 5, 10, 11]"
      ]
     },
     "execution_count": 13,
     "metadata": {},
     "output_type": "execute_result"
    }
   ],
   "source": [
    "s=s+[10,11]\n",
    "s"
   ]
  },
  {
   "cell_type": "markdown",
   "metadata": {},
   "source": [
    "リストでは指定したインデックスの要素を入れ替えられる。"
   ]
  },
  {
   "cell_type": "code",
   "execution_count": 14,
   "metadata": {},
   "outputs": [
    {
     "data": {
      "text/plain": [
       "[1, 2, 1000, 4, 5, 10, 11]"
      ]
     },
     "execution_count": 14,
     "metadata": {},
     "output_type": "execute_result"
    }
   ],
   "source": [
    "s[2]=1000\n",
    "s"
   ]
  },
  {
   "cell_type": "markdown",
   "metadata": {},
   "source": [
    "リストはさらに幾つかのメソッドを持っている。xは要素、項目等であり、値、文字、文字列、リスト(タプル、辞書)でもよい。\n",
    "\n",
    "1.\tappend(x): xをリストの最後に加える。  \n",
    "2.\tcount(x) : リストに含まれるxの数を数える。  \n",
    "3.\tinsert(i,x) :i番目のポジションにxを挿入する。  \n",
    "4.\tremove(x) :xである最初の値を削除する。  "
   ]
  },
  {
   "cell_type": "code",
   "execution_count": 15,
   "metadata": {},
   "outputs": [
    {
     "data": {
      "text/plain": [
       "[1, 2, 1000, 4, 5, 10, 11, 2000]"
      ]
     },
     "execution_count": 15,
     "metadata": {},
     "output_type": "execute_result"
    }
   ],
   "source": [
    "s.append(2000)\n",
    "s"
   ]
  },
  {
   "cell_type": "code",
   "execution_count": 16,
   "metadata": {},
   "outputs": [
    {
     "data": {
      "text/plain": [
       "1"
      ]
     },
     "execution_count": 16,
     "metadata": {},
     "output_type": "execute_result"
    }
   ],
   "source": [
    "s.count(1)"
   ]
  },
  {
   "cell_type": "code",
   "execution_count": 17,
   "metadata": {},
   "outputs": [
    {
     "data": {
      "text/plain": [
       "[1, 2, 3, 1000, 4, 5, 10, 11, 2000]"
      ]
     },
     "execution_count": 17,
     "metadata": {},
     "output_type": "execute_result"
    }
   ],
   "source": [
    "s.insert(2,3)\n",
    "s"
   ]
  },
  {
   "cell_type": "code",
   "execution_count": 18,
   "metadata": {},
   "outputs": [
    {
     "name": "stdout",
     "output_type": "stream",
     "text": [
      "[1, 2, 3, 1000, 4, 5, 10, 11]\n"
     ]
    },
    {
     "data": {
      "text/plain": [
       "[1, 2, 3, 4, 5]"
      ]
     },
     "execution_count": 18,
     "metadata": {},
     "output_type": "execute_result"
    }
   ],
   "source": [
    "s.remove(2000)\n",
    "print(s)\n",
    "s.remove(1000)\n",
    "s.remove(10)\n",
    "s.remove(11)\n",
    "s"
   ]
  },
  {
   "cell_type": "markdown",
   "metadata": {},
   "source": [
    "for文とin演算子とprint関数を使って要素を表示することもできる。enumerateを使うとインデックスを作る手間が省ける。"
   ]
  },
  {
   "cell_type": "code",
   "execution_count": 19,
   "metadata": {},
   "outputs": [
    {
     "name": "stdout",
     "output_type": "stream",
     "text": [
      "0 1,1 2,2 3,3 4,4 5,\n",
      "0 1,1 2,2 3,3 4,4 5,\n",
      "0 1,1 2,2 3,3 4,4 5,\n",
      "0 1,1 2,2 3,3 4,4 5,"
     ]
    }
   ],
   "source": [
    "#インデックスと要素をペアで表示\n",
    "for i in s:\n",
    "    print(i-1,end=\" \")\n",
    "    print(s[i-1],end=\",\")\n",
    "print()\n",
    "for i in s:             #best\n",
    "    print(i-1,end=\" \")\n",
    "    print(i,end=\",\")\n",
    "print()\n",
    "for i in range(len(s)):\n",
    "    print(i,s[i],end=\",\")\n",
    "print()\n",
    "for i,j in enumerate(s):#best\n",
    "    print(i,j,end=\",\")"
   ]
  },
  {
   "cell_type": "markdown",
   "metadata": {},
   "source": [
    "確かにfor文の多用はPythonの処理時間を遅らせるが、使い方によっては早まる。そのためにはfor文の中の処理の深い理解が必要だが、ここではそれはせずに、簡単に説明する。\n",
    "\n",
    "for <変数> in <イテラブル>:  \n",
    "    <ステートメント>  \n",
    "    \n",
    "    <イテラブル>はコレクションで要素を一度に1つずつ返せる反復可能オブジェクトである。例えばリストとタプルとrangeオブジェクトだ。<ステートメント>は繰り返し処理で抽出された<イテラブル>の要素<変数>に順番に施される。"
   ]
  },
  {
   "cell_type": "markdown",
   "metadata": {},
   "source": [
    "内包表記はリストを生成する方法の1つ。高速、幅広い用途で簡単で力強いPythonの記法として知られるPythonicの１つ。"
   ]
  },
  {
   "cell_type": "code",
   "execution_count": 20,
   "metadata": {},
   "outputs": [
    {
     "data": {
      "text/plain": [
       "([0, 1, 4, 9, 16], [0, 1, 4, 9, 16])"
      ]
     },
     "execution_count": 20,
     "metadata": {},
     "output_type": "execute_result"
    }
   ],
   "source": [
    "b=[]\n",
    "for x in range(5):\n",
    "    b.append(x**2)\n",
    "c=[x**2 for x in range(5)]#内包表記\n",
    "b,c"
   ]
  },
  {
   "cell_type": "code",
   "execution_count": 21,
   "metadata": {},
   "outputs": [
    {
     "data": {
      "text/plain": [
       "([(1, 3), (1, 1), (1, 4), (2, 3), (2, 1), (2, 4), (3, 3), (3, 1), (3, 4)],\n",
       " [(1, 3), (1, 1), (1, 4), (2, 3), (2, 1), (2, 4), (3, 3), (3, 1), (3, 4)])"
      ]
     },
     "execution_count": 21,
     "metadata": {},
     "output_type": "execute_result"
    }
   ],
   "source": [
    "xy=[]\n",
    "for x in [1,2,3]:\n",
    "    for y in [3,1,4]:\n",
    "        xy.append((x, y))\n",
    "xxyy=[(x, y) for x in [1,2,3] for y in [3,1,4]]#内包表記\n",
    "xy,xxyy"
   ]
  },
  {
   "cell_type": "markdown",
   "metadata": {},
   "source": [
    "より複雑な内包表記も可能、しかし複雑すぎると読みづらくなり逆効果となる場合もある。"
   ]
  },
  {
   "cell_type": "code",
   "execution_count": 22,
   "metadata": {},
   "outputs": [
    {
     "data": {
      "text/plain": [
       "[0, 1, 4]"
      ]
     },
     "execution_count": 22,
     "metadata": {},
     "output_type": "execute_result"
    }
   ],
   "source": [
    "c=[x**2 for x in range(5)if x<3]#内包表記\n",
    "c"
   ]
  },
  {
   "cell_type": "markdown",
   "metadata": {},
   "source": [
    "　リストに関するスライスの役割について学んだので、簡単に辞書のスライスについても述べておく。つぎの例は7章の入力[4]である。aはタプルであるが、その中に辞書がある。それは臨界値の部分である。1％、5％,10％がインデックスでその内容をスライスを用いて抽出してみる。"
   ]
  },
  {
   "cell_type": "code",
   "execution_count": 23,
   "metadata": {},
   "outputs": [
    {
     "name": "stdout",
     "output_type": "stream",
     "text": [
      "結果は、adf検定統計値が 2.417756028156063 p値が 0.9974438835838642 となる。また、\n",
      "ラグ数 26\n",
      "データ数  18268\n",
      "臨界値 1%: -2.5658623997451224 ;5%: -1.9410147133845153 ;10%: -1.6168054690436715 である。\n"
     ]
    }
   ],
   "source": [
    "a=(2.417756028156063,\n",
    " 0.9974438835838642,\n",
    " 26,\n",
    " 18268,\n",
    " {'1%': -2.5658623997451224,\n",
    "  '5%': -1.9410147133845153,\n",
    "  '10%': -1.6168054690436715},\n",
    " -108681.52881959753)\n",
    "\n",
    "print(\"結果は、adf検定統計値が\",a[0],\"p値が\",a[1],\"となる。また、\")\n",
    "print(\"ラグ数\",a[2])\n",
    "print(\"データ数 \",a[3])\n",
    "print(\"臨界値 1%:\",a[4]['1%'],\";5%:\",a[4]['5%'],\";10%:\",a[4]['10%'],\"である。\")"
   ]
  },
  {
   "cell_type": "markdown",
   "metadata": {},
   "source": [
    "3.5 出力をみやすくするためのフォーマット\n",
    "\n",
    "　Pythonでのフォーマットの方法は３つある。\n",
    "\n",
    "3.5.1 f-string\n",
    "\n",
    "　フォーマット済み文字列リテラル(f-string)と呼ばれる方法では、文字列の頭にfかFをつけ、式を{ } で囲むことで文字列に式の値を入れ込める。この式の後にフォーマット指定子を置くとフォーマットを制御できる。"
   ]
  },
  {
   "cell_type": "code",
   "execution_count": 24,
   "metadata": {},
   "outputs": [
    {
     "name": "stdout",
     "output_type": "stream",
     "text": [
      "式(x)のフォーマット:123.46\n"
     ]
    }
   ],
   "source": [
    "x=123.45678\n",
    "print(f\"式(x)のフォーマット:{x:2.2f}\")"
   ]
  },
  {
   "cell_type": "markdown",
   "metadata": {},
   "source": [
    "3.5.2 format()メソッド\n",
    "\n",
    "　format()メソッドを使って式ｘの出力をフォーマットできる。"
   ]
  },
  {
   "cell_type": "code",
   "execution_count": 25,
   "metadata": {},
   "outputs": [
    {
     "name": "stdout",
     "output_type": "stream",
     "text": [
      "式(x)のフォーマット:123.46\n"
     ]
    }
   ],
   "source": [
    "x=123.45678\n",
    "print(\"式(x)のフォーマット:{0:2.2f}\".format(x))"
   ]
  },
  {
   "cell_type": "markdown",
   "metadata": {},
   "source": [
    "3.5.3 文字列書式設定方式\n",
    "\n",
    "　参考として古い方法を紹介する。"
   ]
  },
  {
   "cell_type": "code",
   "execution_count": 26,
   "metadata": {},
   "outputs": [
    {
     "name": "stdout",
     "output_type": "stream",
     "text": [
      "値(x)のフォーマット(古い方法): 123.46 \n"
     ]
    }
   ],
   "source": [
    "x=123.45678\n",
    "print('値(x)のフォーマット(古い方法): %2.2f '%(x))"
   ]
  },
  {
   "cell_type": "markdown",
   "metadata": {},
   "source": [
    "3.5.4 ljust\n",
    "\n",
    "　手作業で文字列の長さを調整する。"
   ]
  },
  {
   "cell_type": "code",
   "execution_count": 27,
   "metadata": {},
   "outputs": [
    {
     "name": "stdout",
     "output_type": "stream",
     "text": [
      "復興　 123 statesの長さをそろえる\n",
      "成長　 123 statesの長さをそろえる\n",
      "バブル 123 statesの長さをそろえる\n"
     ]
    }
   ],
   "source": [
    "states=['復興','成長','バブル']\n",
    "for i in range(len(states)):\n",
    "    print(states[i].ljust(3,'　'),123,'statesの長さをそろえる')"
   ]
  },
  {
   "cell_type": "markdown",
   "metadata": {},
   "source": [
    "　今、最もよく使われているのはf-string方式だ。\n",
    "\n",
    "3.6 とりあえず標準ライブラリからインポートして使うのはDatetimeだけ！\n",
    "\n",
    "　Pythonは組み込み関数以外の必要な関数を豊富なライブラリからimport文を用いて取り込み使用する。それをインポートするという。\n",
    " \n",
    " モジュールはクラス、関数、変数などを定義したファイルで、パッケージは関連するモジュールの集まりである。パッケージ全体をインポートすることができるし、またパーケージの中の特定のモジュールだけをインポートすることもできる。 その際にはfrom X import Yとする。モジュールXからサブモジュールYをインポートし、パッケージ名を表す接頭語なしで利用できる。 また、import as を用いるとモジュール名を短縮して用いることができる。import XYZ as Xとすると、 接頭語をXYZではなくXと書けばすむ。Pythonでは、ライブラリの定義はなく、モジュールやパッケージをライブラリと呼ぶことがある。本書ではライブラリを用いる。\n",
    "\n",
    "3.6.1 Datetime\n",
    "\n",
    "Python標準ライブラリは日付、時刻、暦に関する関数を含んでいる。datetime, time,そして calendarライブラリはその中核をなす。"
   ]
  },
  {
   "cell_type": "code",
   "execution_count": 28,
   "metadata": {},
   "outputs": [
    {
     "data": {
      "text/plain": [
       "datetime.datetime(2023, 5, 7, 21, 51, 21, 169314)"
      ]
     },
     "execution_count": 28,
     "metadata": {},
     "output_type": "execute_result"
    }
   ],
   "source": [
    "from datetime import datetime\n",
    "now=datetime.now()\n",
    "now"
   ]
  },
  {
   "cell_type": "markdown",
   "metadata": {},
   "source": [
    "入力[28]のように、容易にOSから現在の日付と時刻を取得可能である。また、時間の差は入力[29]のように求められる。"
   ]
  },
  {
   "cell_type": "code",
   "execution_count": 29,
   "metadata": {},
   "outputs": [
    {
     "data": {
      "text/plain": [
       "datetime.timedelta(days=2346, seconds=78681, microseconds=169314)"
      ]
     },
     "execution_count": 29,
     "metadata": {},
     "output_type": "execute_result"
    }
   ],
   "source": [
    "dtime=now-datetime(2016,12,3)#Python3ではじめるシステムトレードの初版発売日\n",
    "dtime"
   ]
  },
  {
   "cell_type": "markdown",
   "metadata": {},
   "source": [
    "3.7 本書でインポートして使うライブラリ群\n",
    "\n",
    "　標準ライブラリ以外のライブラリ群はpip install xyzとしてインストールする必要がある。ただし、Anacondaを利用する場合、あらかじめインストール済みの多くのライブラリをpip installなしにJupyter notebookから呼び出しが可能である。\n",
    "\n",
    "3.7.1 NumPy\n",
    "\n",
    "　NumPyはNumerical Pythonを略して表記したものだ。Pythonの科学計算の基本的な部分を構築する。また、高速で効率のよい科学計算を可能とする。また、強力な乱数生成能力もある。"
   ]
  },
  {
   "cell_type": "code",
   "execution_count": 30,
   "metadata": {},
   "outputs": [],
   "source": [
    "import numpy as np"
   ]
  },
  {
   "cell_type": "markdown",
   "metadata": {},
   "source": [
    "科学計算の例"
   ]
  },
  {
   "cell_type": "code",
   "execution_count": 31,
   "metadata": {},
   "outputs": [
    {
     "name": "stdout",
     "output_type": "stream",
     "text": [
      "1.1051709180756477\n"
     ]
    },
    {
     "data": {
      "text/plain": [
       "0.10000000000000007"
      ]
     },
     "execution_count": 31,
     "metadata": {},
     "output_type": "execute_result"
    }
   ],
   "source": [
    "x=0.1\n",
    "y=np.exp(x)\n",
    "print(y)\n",
    "z=np.log(y)\n",
    "z"
   ]
  },
  {
   "cell_type": "markdown",
   "metadata": {},
   "source": [
    "ndarraysの生成"
   ]
  },
  {
   "cell_type": "code",
   "execution_count": 32,
   "metadata": {},
   "outputs": [
    {
     "data": {
      "text/plain": [
       "array([   1.23456, 1000.     ,    2.     ])"
      ]
     },
     "execution_count": 32,
     "metadata": {},
     "output_type": "execute_result"
    }
   ],
   "source": [
    "a=np.array([1.23456,1000,2])\n",
    "a"
   ]
  },
  {
   "cell_type": "code",
   "execution_count": 33,
   "metadata": {},
   "outputs": [
    {
     "data": {
      "text/plain": [
       "array([1.23e+00, 1.00e+08, 2.00e+00])"
      ]
     },
     "execution_count": 33,
     "metadata": {},
     "output_type": "execute_result"
    }
   ],
   "source": [
    "b=np.array([1.23,100000000,2])\n",
    "b"
   ]
  },
  {
   "cell_type": "markdown",
   "metadata": {},
   "source": [
    "NumPy配列のスライス操作"
   ]
  },
  {
   "cell_type": "code",
   "execution_count": 34,
   "metadata": {},
   "outputs": [
    {
     "data": {
      "text/plain": [
       "(1.23, 100000000.0, 2.0, array([1.23e+00, 1.00e+08, 2.00e+00]))"
      ]
     },
     "execution_count": 34,
     "metadata": {},
     "output_type": "execute_result"
    }
   ],
   "source": [
    "b[0],b[1],b[2],b[:]"
   ]
  },
  {
   "cell_type": "markdown",
   "metadata": {},
   "source": [
    "数値の表示(精度)の指定\n",
    "- 桁数の指定と指数表記"
   ]
  },
  {
   "cell_type": "code",
   "execution_count": 35,
   "metadata": {},
   "outputs": [
    {
     "name": "stdout",
     "output_type": "stream",
     "text": [
      "指数表記を止める [      0.       1.    1024.   59049. 1048576.]\n",
      "指数表記を止めない [0.00e+00 1.00e+00 1.02e+03 5.90e+04 1.05e+06]\n"
     ]
    }
   ],
   "source": [
    "np.set_printoptions(precision=2)\n",
    "x=np.arange(5.)\n",
    "np.set_printoptions(suppress=True) #suppressは禁止の意味\n",
    "print(\"指数表記を止める\",x**10)\n",
    "np.set_printoptions(suppress=False)\n",
    "print(\"指数表記を止めない\",x**10)"
   ]
  },
  {
   "cell_type": "markdown",
   "metadata": {},
   "source": [
    "NumPyによる疑似乱数生成\n",
    "\n",
    "　理想的な乱数列は熱雑音とか原子核分裂などの物理乱数である。本質的にランダムに生成された乱数列には周期や再現性がないなどのメリットがある。コンピューターにより生成する疑似乱数列では、長い周期と高次元での緻密性から長い間メルセンヌツイスターが用いられてきた。しかし、最近では統計的評価、計算速度、メモリー占有率、予測不可能性、再現性に優れたPCG系列の乱数が注目されている。\n",
    " \n",
    "　NumPy generatorの乱数ルーチンは、シーケンスを作成するBitGeneratorと、それらのシーケンスを使用して異なる統計分布からサンプルを取得するGeneratorの組み合わせで擬似乱数を生成している。そのパフォーマンスは目を見張るものがある。本書ではPCG系を用いる。\n",
    " \n",
    "  出所：https://www.pcg-random.org/index.html\n"
   ]
  },
  {
   "cell_type": "code",
   "execution_count": 36,
   "metadata": {},
   "outputs": [],
   "source": [
    "from numpy.random import default_rng, Generator, PCG64, MT19937\n",
    "rng = default_rng()"
   ]
  },
  {
   "cell_type": "markdown",
   "metadata": {},
   "source": [
    "3.7.2 pandas\n",
    "\n",
    "　これは、関連するデータ、ラベル付けされたデータの作業を簡単で直感的に行えるようにするパッケージだ。かつ、高速かつ柔軟性のあるデータ構造を提供する。pandasの存在がPythonを使う1つの理由でもある。詳しくは4章で扱う。\n",
    " \n",
    "　pandasのインポートとフォーマットの指定方法"
   ]
  },
  {
   "cell_type": "code",
   "execution_count": 37,
   "metadata": {},
   "outputs": [
    {
     "name": "stdout",
     "output_type": "stream",
     "text": [
      "小数点以下4桁\n",
      "       0\n",
      "0 1.1100\n",
      "1 2.1110\n",
      "2 3.1111\n",
      "指数表記2桁\n",
      "         0\n",
      "0 1.11e+00\n",
      "1 2.11e+00\n",
      "2 3.11e+00\n"
     ]
    }
   ],
   "source": [
    "import pandas as pd\n",
    "a=pd.DataFrame([1.11,2.111,3.11111])\n",
    "#浮動小数点精度のフォーマット\n",
    "pd.set_option('display.float_format', lambda x: '%.4f' % x)\n",
    "print(\"小数点以下4桁\")\n",
    "print(a)\n",
    "pd.set_option('display.float_format', lambda x: '%.2e' % x)\n",
    "print(\"指数表記2桁\")\n",
    "print(a)"
   ]
  },
  {
   "cell_type": "markdown",
   "metadata": {},
   "source": [
    "　WEB上のデータをダウンロード\n",
    " \n",
    " 日経平均株価をFREDから取得する。"
   ]
  },
  {
   "cell_type": "code",
   "execution_count": 38,
   "metadata": {},
   "outputs": [
    {
     "data": {
      "text/html": [
       "<div>\n",
       "<style scoped>\n",
       "    .dataframe tbody tr th:only-of-type {\n",
       "        vertical-align: middle;\n",
       "    }\n",
       "\n",
       "    .dataframe tbody tr th {\n",
       "        vertical-align: top;\n",
       "    }\n",
       "\n",
       "    .dataframe thead th {\n",
       "        text-align: right;\n",
       "    }\n",
       "</style>\n",
       "<table border=\"1\" class=\"dataframe\">\n",
       "  <thead>\n",
       "    <tr style=\"text-align: right;\">\n",
       "      <th></th>\n",
       "      <th>NIKKEI225</th>\n",
       "      <th>DEXJPUS</th>\n",
       "    </tr>\n",
       "    <tr>\n",
       "      <th>DATE</th>\n",
       "      <th></th>\n",
       "      <th></th>\n",
       "    </tr>\n",
       "  </thead>\n",
       "  <tbody>\n",
       "    <tr>\n",
       "      <th>1971-01-04</th>\n",
       "      <td>7.60e+00</td>\n",
       "      <td>5.88e+00</td>\n",
       "    </tr>\n",
       "  </tbody>\n",
       "</table>\n",
       "</div>"
      ],
      "text/plain": [
       "            NIKKEI225  DEXJPUS\n",
       "DATE                          \n",
       "1971-01-04   7.60e+00 5.88e+00"
      ]
     },
     "execution_count": 38,
     "metadata": {},
     "output_type": "execute_result"
    }
   ],
   "source": [
    "import pandas_datareader.data as web\n",
    "start=\"1949/5/16\"\n",
    "end=datetime.now()\n",
    "n225 = web.DataReader(\"NIKKEI225\", 'fred',start,end).NIKKEI225\n",
    "fx=web.DataReader(\"DEXJPUS\", 'fred',start,end).DEXJPUS\n",
    "port=np.log(pd.concat([n225,fx],axis=1)).dropna()\n",
    "port[:1]"
   ]
  },
  {
   "cell_type": "markdown",
   "metadata": {},
   "source": [
    "csvファイルの読み込み\n",
    "\n",
    "米国Yahoo Financeからダウンロードした^N225.csvを読み込む。"
   ]
  },
  {
   "cell_type": "code",
   "execution_count": 39,
   "metadata": {},
   "outputs": [
    {
     "data": {
      "text/html": [
       "<div>\n",
       "<style scoped>\n",
       "    .dataframe tbody tr th:only-of-type {\n",
       "        vertical-align: middle;\n",
       "    }\n",
       "\n",
       "    .dataframe tbody tr th {\n",
       "        vertical-align: top;\n",
       "    }\n",
       "\n",
       "    .dataframe thead th {\n",
       "        text-align: right;\n",
       "    }\n",
       "</style>\n",
       "<table border=\"1\" class=\"dataframe\">\n",
       "  <thead>\n",
       "    <tr style=\"text-align: right;\">\n",
       "      <th></th>\n",
       "      <th>Open</th>\n",
       "      <th>High</th>\n",
       "      <th>Low</th>\n",
       "      <th>Close</th>\n",
       "      <th>Adj Close</th>\n",
       "      <th>Volume</th>\n",
       "    </tr>\n",
       "    <tr>\n",
       "      <th>Date</th>\n",
       "      <th></th>\n",
       "      <th></th>\n",
       "      <th></th>\n",
       "      <th></th>\n",
       "      <th></th>\n",
       "      <th></th>\n",
       "    </tr>\n",
       "  </thead>\n",
       "  <tbody>\n",
       "    <tr>\n",
       "      <th>1970-01-05</th>\n",
       "      <td>2.40e+03</td>\n",
       "      <td>2.40e+03</td>\n",
       "      <td>2.40e+03</td>\n",
       "      <td>2.40e+03</td>\n",
       "      <td>2.40e+03</td>\n",
       "      <td>0.00e+00</td>\n",
       "    </tr>\n",
       "  </tbody>\n",
       "</table>\n",
       "</div>"
      ],
      "text/plain": [
       "               Open     High      Low    Close  Adj Close   Volume\n",
       "Date                                                              \n",
       "1970-01-05 2.40e+03 2.40e+03 2.40e+03 2.40e+03   2.40e+03 0.00e+00"
      ]
     },
     "execution_count": 39,
     "metadata": {},
     "output_type": "execute_result"
    }
   ],
   "source": [
    "price = pd.read_csv('^N225.csv',index_col=0,parse_dates=True).dropna()\n",
    "price[:1]"
   ]
  },
  {
   "cell_type": "markdown",
   "metadata": {},
   "source": [
    "記述統計\n",
    "\n",
    "平均(mean)、標準偏差(std)、歪度(skew)、尖度(kurt)の取得。"
   ]
  },
  {
   "cell_type": "code",
   "execution_count": 40,
   "metadata": {},
   "outputs": [
    {
     "name": "stdout",
     "output_type": "stream",
     "text": [
      "3.0 1.5811388300841898 0.0 -1.2000000000000002\n"
     ]
    }
   ],
   "source": [
    "a=pd.DataFrame([1,2,3,4,5])\n",
    "print(a.mean()[0],a.std()[0],a.skew()[0],a.kurt()[0])"
   ]
  },
  {
   "cell_type": "markdown",
   "metadata": {},
   "source": [
    "3.7.3 matplotlib\n",
    "\n",
    "　matplotlibはPython用のグラフ描画ソフトである。探索的データ分析には欠かせない道具である。リリースは2003年である。また、matplotlibは軸のラベル、凡例、タイトルなどを日本語で表記する機能を持っている。グラフの作成に関しては本章の3.8で使用頻度の高いものを学ぶ。\n"
   ]
  },
  {
   "cell_type": "code",
   "execution_count": 41,
   "metadata": {},
   "outputs": [
    {
     "data": {
      "image/png": "[encoded data removed]",
      "text/plain": [
       "<Figure size 300x300 with 1 Axes>"
      ]
     },
     "metadata": {},
     "output_type": "display_data"
    }
   ],
   "source": [
    "# 日本語フォントの初期設定\n",
    "import matplotlib.pyplot as plt\n",
    "import japanize_matplotlib\n",
    "\n",
    "# plotを用いた簡単なグラフ\n",
    "plt.figure(figsize=(3,3))#グラフの大きさの指定\n",
    "plt.plot([1, 2, 3, 4])# データは1,2,3,4\n",
    "plt.title('簡単なグラフ')\n",
    "#plt.savefig('簡単なグラフ.jpeg',dpi=600)\n",
    "plt.show()"
   ]
  },
  {
   "cell_type": "markdown",
   "metadata": {},
   "source": [
    "3.7.4 SciPy\n",
    "\n",
    "　SciPyはNumPy配列を使うことで科学、工学の分野で一般的に使われる積分、統計的検定、固有値の算出などを高速に行うことを可能とする。\n",
    " \n",
    "　統計的検定では、たとえば、おもりの重さ($m$)を10回測定したとする。9回程度の頻度で真の重さがaとbの間にあるとする。その場合、信頼水準90%でおもりの真の重さはaとbの間にあるといい、\n",
    "$P(a\\le m \\le b)\\ge0.9$\n",
    "と書く。[a,b]を信頼区間という。この上限aと下限bの値は、標本がどのような分布にしたがうかにより違ってくる。本書ではt分布とカイ二乗分布を用いる。\n",
    "\n",
    "- ｔ検定\n",
    "- カイ二乗検定\n"
   ]
  },
  {
   "cell_type": "code",
   "execution_count": 42,
   "metadata": {},
   "outputs": [],
   "source": [
    "from scipy.stats import t    #ステューデントのt分布\n",
    "from scipy.stats import chi2 #カイ二乗分布"
   ]
  },
  {
   "cell_type": "code",
   "execution_count": 43,
   "metadata": {},
   "outputs": [
    {
     "data": {
      "text/plain": [
       "(-1.9695368676395824, 1.9695368676395824)"
      ]
     },
     "execution_count": 43,
     "metadata": {},
     "output_type": "execute_result"
    }
   ],
   "source": [
    "c975,c025=t.interval(confidence=(0.95), df=249)\n",
    "#c975=信頼区間の上限,c025=信頼区間の下限,df:自由度 \n",
    "c975,c025"
   ]
  },
  {
   "cell_type": "code",
   "execution_count": 44,
   "metadata": {},
   "outputs": [
    {
     "data": {
      "text/plain": [
       "(207.1855952351933, 294.60082228650134)"
      ]
     },
     "execution_count": 44,
     "metadata": {},
     "output_type": "execute_result"
    }
   ],
   "source": [
    "c975,c025=chi2.interval(confidence=(0.95), df=249)\n",
    "#c975=信頼区間の上限,c025=信頼区間の下限 ,df:自由度 \n",
    "#alpha=信頼区間 \n",
    "c975,c025"
   ]
  },
  {
   "cell_type": "markdown",
   "metadata": {},
   "source": [
    "3.7.5 Statsmodels\n",
    "\n",
    "　統計モデル、時系列モデルの分析に用いるクラスと関数を提供する。本書では線形回帰、単位根検定、コレログラムなどの機能をつかう。"
   ]
  },
  {
   "cell_type": "code",
   "execution_count": 45,
   "metadata": {},
   "outputs": [
    {
     "data": {
      "text/plain": [
       "(array([[1., 0.],\n",
       "        [1., 1.],\n",
       "        [1., 2.]]),\n",
       " 0.9999999999999998,\n",
       " 0.9999999999999994)"
      ]
     },
     "execution_count": 45,
     "metadata": {},
     "output_type": "execute_result"
    }
   ],
   "source": [
    "import statsmodels.api as sm    #接頭語をsmとしてstatsmodels.apiをインポート \n",
    "x=np.arange(3)\n",
    "x0=sm.add_constant(x)\n",
    "y=np.array([1,2,3])\n",
    "res=sm.OLS(y.T,x0).fit()\n",
    "x0,res.params[0],res.params[1]"
   ]
  },
  {
   "cell_type": "markdown",
   "metadata": {},
   "source": [
    "-　ジャックベラ検定：  \n",
    "標本が正規分布にしたがうかどうかを検定する。結果は検定統計量、p値、歪度、尖度がタプルとして返される。"
   ]
  },
  {
   "cell_type": "code",
   "execution_count": 46,
   "metadata": {},
   "outputs": [
    {
     "data": {
      "text/plain": [
       "(0.3098255941099285, 0.8564898626656, -0.23906314692954456, 1.5)"
      ]
     },
     "execution_count": 46,
     "metadata": {},
     "output_type": "execute_result"
    }
   ],
   "source": [
    "from statsmodels.stats.stattools import jarque_bera\n",
    "jarque_bera(res.resid)"
   ]
  },
  {
   "cell_type": "markdown",
   "metadata": {},
   "source": [
    "3.8 基本的なグラフ表示の設定\n",
    "\n",
    "　matplotlibは本書で扱うグラフを用いた分析で多用される。補足的にseabornが用いられる。\n",
    "\n",
    "3.8.1 プロット、散布図、頻度図(ヒストグラム)\n",
    "\n",
    "- plot(*args,  **kwargs)\n",
    "\n",
    "|Python 3.1|\n",
    "|:---:|\n",
    "\n",
    "|plot|($*$args,  $**$kwargs)|  \n",
    "|:---|:---|\n",
    "|$*$args:| シーケンス型の引数|  \n",
    "|$**$kwargs:|マッピング型の引数)|  \n",
    "|plot(x,y):|yとxを線またはマーカーでプロットする。|\n",
    "|plot(y):|xを1,...nのインデックスとしてyを線またはマーカーでプロットする。|\n",
    "|alpha:|色の濃さ 0から1|  \n",
    "|color or c:| {'b'(青),'g'(緑),'r'(赤),'c'(シアン),'m'(マゼンダ),'y'(黄),'k'(黒)}|  \n",
    "|figure:|図の大きさの指定|  \n",
    "|label：|要素の名前|  \n",
    "|linestyle or ls| {'-', '--', '-.', ':', '', ...}|  \n",
    "|linewidth or lw：|線の幅|  \n",
    "|marker:|{\".\"(点),\"*\"(星),\"o\"(丸),\"+\"(+),\"x\"\t(x),\"s\"(四角形)}|  \n",
    "\n",
    "- scatter(x, y, **kwargs)  \n",
    "\n",
    "|Python 3.2|\n",
    "|:---:|\n",
    "\n",
    "|scatter|(x, y)|\n",
    "|:---|:---|\n",
    "|scatter(x,y):|ｘとyの散布図を作成する。|\n",
    "|x,y|配列など|\n",
    "\n",
    "plot参照\n",
    "\n",
    "- hist(x, bins=None, density=False, cumulative=False, **kwargs)  \n",
    "\n",
    "|Python 3.3|\n",
    "|:---:|\n",
    "\n",
    "|hist|(x, bins=None, density=False, cumulative=False, $**$kwargs)|\n",
    "|:---|:---|\n",
    "|hist(x):|xの頻度図を作成する。|\n",
    "|x:|配列またはシーケンス|\n",
    "|bins:|容器の数;整数、シーケンス、ディフォルト＝10|\n",
    "|density:|確率密度関数|  \n",
    "|cumulative:|累積分布関数|  \n",
    "\n",
    "\n",
    "3.8.2 グラフ軸回り、他の設定\n",
    "\n",
    "|Python 3.4|軸回り、他の設定|\n",
    "|:---|:---|\n",
    "|figure(figsize):|新しいfigureを設定;figsizeはfigureの大きさをインチで指定(幅、高さ)|\n",
    "|add_subplot:| サブプロット配置の一部として、図にAxesを追加する。|\n",
    "|ylabel:| y軸にラベルを設定|\n",
    "|xlabel:| x軸にラベルを設定|\n",
    "|xticks:| X 軸の現在の目盛りの位置とラベルを設定します。|\n",
    "|yticks:| X 軸の現在の目盛りの位置とラベルを設定します。|\n",
    "|set_xlim:| x軸の両端の指定|\n",
    "|annotate:| 指定した場所に注釈を入れる。|\n",
    "|horizontalalignment:|テキストの水平位置を指定|\n",
    "|verticalalignment:|テキストの垂直位置を表示|\n",
    "|grid:| グリッドの設定|\n",
    "|title:| グラフのタイトルを設定|\n",
    "|legend(loc,bbox_to_anchor):|凡例の位置の設定；|\n",
    "|    |loc:凡例の位置;|\n",
    "|    |bbox_to_anchor:凡例の箱の位置|\n",
    "|tight_layout| サブプット周辺の調整|"
   ]
  },
  {
   "cell_type": "code",
   "execution_count": 47,
   "metadata": {},
   "outputs": [
    {
     "data": {
      "image/png": "[encoded data removed]",
      "text/plain": [
       "<Figure size 800x400 with 4 Axes>"
      ]
     },
     "metadata": {},
     "output_type": "display_data"
    }
   ],
   "source": [
    "fig = plt.figure(figsize=(8,4)) \n",
    "ax1 = fig.add_subplot(2,2,1)    \n",
    "ax1.plot(n225,alpha=0.5,color='black',label=\"日経225\")\n",
    "plt.ylabel('日経平均株価')\n",
    "plt.title(\"図3.1a: 日経平均株価\")\n",
    "plt.xticks(rotation=90)\n",
    "plt.legend(loc='upper left', bbox_to_anchor=(1, 1))\n",
    "#-------------------------------------------------------\n",
    "ax2 = fig.add_subplot(2,2,2)   \n",
    "ax2.plot(fx,alpha=0.5,color='black',label=\"ドル円\")\n",
    "plt.xticks(rotation=90)\n",
    "plt.legend(loc='upper left', bbox_to_anchor=(1, 1))\n",
    "plt.title(\"図3.1b: ドル円の為替レート\")\n",
    "#-------------------------------------------------------\n",
    "ax3 = fig.add_subplot(2,2,3)   \n",
    "ax3.hist(n225,alpha=0.5,color='black',label=\"日経225\")\n",
    "plt.xticks(rotation=90)\n",
    "plt.legend(loc='upper right')\n",
    "plt.title(\"図3.1c: 日経平均株価の頻度図\")\n",
    "#-------------------------------------------------------\n",
    "ax4 = fig.add_subplot(2,2,4)   \n",
    "ax4.scatter(port.iloc[:,1],port.iloc[:,0],color='blue',s=1)\n",
    "plt.xlabel('ドル円')\n",
    "plt.ylabel('日経平均株価')\n",
    "plt.xticks([np.log(100),np.log(200),np.log(300)],[100,200,300])\n",
    "plt.yticks([np.log(1000),np.log(10000),np.log(30000)],[1000,10000,30000])\n",
    "plt.xticks(rotation=90)\n",
    "plt.title(\"図3.1d: 日経平均株価とドル円レートの散布図\")\n",
    "plt.tight_layout()  \n",
    "plt.show()"
   ]
  },
  {
   "cell_type": "markdown",
   "metadata": {},
   "source": [
    "\n",
    "3.8.3 2軸のグラフ\n",
    "\n",
    "　y軸の右と左の軸を利用して、目盛りを2つもつグラフを描くことができる。\n",
    "\n",
    "|Python 3.5|\n",
    "|:---:|\n",
    "\n",
    "|Axes.twinx()|\n",
    "|:---|\n",
    "|x軸を共有しながら2つのｙ軸をもつグラフを作成できる。|\n"
   ]
  },
  {
   "cell_type": "code",
   "execution_count": 48,
   "metadata": {},
   "outputs": [
    {
     "data": {
      "image/png": "[encoded data removed]",
      "text/plain": [
       "<Figure size 400x300 with 2 Axes>"
      ]
     },
     "metadata": {},
     "output_type": "display_data"
    }
   ],
   "source": [
    "fig, ax1 = plt.subplots(figsize=(4,3))\n",
    "ax2 = ax1.twinx()\n",
    "ax1.plot(port.iloc[:,1],color='r',label=\"ドル円\")\n",
    "ax1.legend()\n",
    "ax2.plot(port.iloc[:,0],color='b',label=\"日経平均株価\")\n",
    "ax1.set_ylabel('ドル円')\n",
    "ax2.set_ylabel('日経平均株価')\n",
    "ax2.legend()\n",
    "plt.title('図3.2: 2軸のグラフ')\n",
    "plt.tight_layout()\n",
    "#plt.savefig(\"図3.2.jpeg\",dpi=600)\n",
    "plt.show()"
   ]
  },
  {
   "cell_type": "markdown",
   "metadata": {},
   "source": [
    "3.8.4 3次元サーフェス\n",
    "\n",
    "　可視化というと棒グラフ、円グラフ、散布図、頻度図などの2次元の図をイメージするが、それだと複雑な現象の全体像を見るには不十分ではないかとお思えることもしばしばだ。matplotlibでは3次元グラフも扱えるので、ここでは3Dサーフェスを紹介する。\n",
    "\n",
    "|Python 3.6|\n",
    "|:---:|\n",
    "\n",
    "|plot_surface(X, Y, Z):|サーフェスの描画|\n",
    "|:---|:---|\n",
    "|X,Y,Z:|X,Yはndarray,Zは2次元|\n",
    "|cmap:|カラーマップ|\n",
    "\n",
    "|Python 3.7|\n",
    "|:---:|\n",
    "\n",
    "|colorbar|(mappable, $**$kwargs):プロットにカラーバーの追加|\n",
    "|:---|:---|\n",
    "|mappable:| スカラーデータのRGBAマッピング|"
   ]
  },
  {
   "cell_type": "code",
   "execution_count": 49,
   "metadata": {},
   "outputs": [
    {
     "data": {
      "image/png": "[encoded data removed]",
      "text/plain": [
       "<Figure size 400x400 with 2 Axes>"
      ]
     },
     "metadata": {},
     "output_type": "display_data"
    }
   ],
   "source": [
    "from matplotlib import cm\n",
    "fig = plt.figure(figsize=(4,4))\n",
    "ax = fig.add_subplot(projection='3d')\n",
    "Y=port.NIKKEI225#.iloc[:5000].dropna()\n",
    "X=port.DEXJPUS#.iloc[:5000].dropna()\n",
    "X, Y = np.meshgrid(X, Y)\n",
    "Z = Y-X\n",
    "# Plot the surface.\n",
    "surf = ax.plot_surface(X, Y, Z,cmap=cm.coolwarm)\n",
    "# Customize the z axis.\n",
    "ax.set_zlim(0, 7)\n",
    "# Add a color bar which maps values to colors.\n",
    "fig.colorbar(surf, shrink=0.5, aspect=5)\n",
    "plt.title(\"図3.3: プロットサーフェス\")\n",
    "plt.tight_layout()\n",
    "#plt.savefig('図3.3.jpeg',dpi=600)\n",
    "plt.show()"
   ]
  },
  {
   "cell_type": "markdown",
   "metadata": {},
   "source": [
    "3.8.5 エラーバー\n",
    "\n",
    "　エラーバー(error bar)はデータのばらつきの具合をグラフ上で表現してくれる。本書では期待値や予測値からの乖離の可能性を表現するのに用いている。\n",
    "\n",
    "|Python 3.8|\n",
    "|:---:|\n",
    "\n",
    "| errorbar|(x, y, yerr=None)|\n",
    "|:---|:---|\n",
    "|x,y:|データのポジション|\n",
    "|yerr:|エラーバーの大きさ|\n"
   ]
  },
  {
   "cell_type": "code",
   "execution_count": 50,
   "metadata": {},
   "outputs": [
    {
     "data": {
      "image/png": "[encoded data removed]",
      "text/plain": [
       "<Figure size 300x300 with 1 Axes>"
      ]
     },
     "metadata": {},
     "output_type": "display_data"
    }
   ],
   "source": [
    "fig = plt.figure(figsize=(3,3))\n",
    "x = np.arange(10)\n",
    "y = 2.5 * x \n",
    "yerr = np.linspace(0.05, 2, 10)\n",
    "\n",
    "plt.errorbar(x, y + 3, yerr=yerr, label='both limits (default)')\n",
    "plt.legend()\n",
    "plt.title(\"図3.4: エラーバー\")\n",
    "#plt.savefig('図3.4.jpeg',dpi=600)\n",
    "plt.show()"
   ]
  },
  {
   "cell_type": "markdown",
   "metadata": {},
   "source": [
    "　Pythonの初歩的なプログラミングの方法から始めて、金融データの解析に必要なライブラリの役割と初歩的な使い方を見てきた。冒頭に分析の過程で何か問題が生じ行き詰まってしまったら、ラストリゾートとしてPythonの言語リファレンスと標準ライブラリを紹介した。冒頭、この部分でつまずいてしまった人もいるのではないだろうか？有名な相場師のバイブル本だとか、金融工学や経済学の名著だとか、または哲学書であるとか、そのようなものを期待した人は多いのではないだろうか？自然現象や社会現象は数学で記述できるはずだ。それができなければ、哲学がよりどころとなるか。Pythonも抽象化の極限をいっているし、なによりもコンピュータの計算能力や論理構造の変化により、進化し続けているところがいい。\n",
    "\n",
    "基礎知識はこれだけあればOK。\n",
    "\n",
    "    後は、習うより慣れろ。\n"
   ]
  }
 ],
 "metadata": {
  "kernelspec": {
   "display_name": "Python 3 (ipykernel)",
   "language": "python",
   "name": "python3"
  },
  "language_info": {
   "codemirror_mode": {
    "name": "ipython",
    "version": 3
   },
   "file_extension": ".py",
   "mimetype": "text/x-python",
   "name": "python",
   "nbconvert_exporter": "python",
   "pygments_lexer": "ipython3",
   "version": "3.9.13"
  }
 },
 "nbformat": 4,
 "nbformat_minor": 1
}
